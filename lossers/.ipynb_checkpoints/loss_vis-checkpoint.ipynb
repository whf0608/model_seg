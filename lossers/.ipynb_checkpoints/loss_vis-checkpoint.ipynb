{
 "cells": [
  {
   "cell_type": "code",
   "execution_count": 1,
   "id": "12e9116d-c01b-4b4a-a7a0-f8b5ad77d75c",
   "metadata": {},
   "outputs": [
    {
     "ename": "ModuleNotFoundError",
     "evalue": "No module named 'init'",
     "output_type": "error",
     "traceback": [
      "\u001b[0;31m---------------------------------------------------------------------------\u001b[0m",
      "\u001b[0;31mModuleNotFoundError\u001b[0m                       Traceback (most recent call last)",
      "Cell \u001b[0;32mIn[1], line 8\u001b[0m\n\u001b[1;32m      6\u001b[0m \u001b[38;5;28;01mfrom\u001b[39;00m \u001b[38;5;21;01mtorch\u001b[39;00m  \u001b[38;5;28;01mimport\u001b[39;00m nn\n\u001b[1;32m      7\u001b[0m \u001b[38;5;28;01mfrom\u001b[39;00m \u001b[38;5;21;01mtqdm\u001b[39;00m \u001b[38;5;28;01mimport\u001b[39;00m tqdm\n\u001b[0;32m----> 8\u001b[0m \u001b[38;5;28;01mfrom\u001b[39;00m \u001b[38;5;21;01minit\u001b[39;00m \u001b[38;5;28;01mimport\u001b[39;00m \u001b[38;5;241m*\u001b[39m\n\u001b[1;32m      9\u001b[0m \u001b[38;5;28;01mfrom\u001b[39;00m \u001b[38;5;21;01mtorch\u001b[39;00m \u001b[38;5;28;01mimport\u001b[39;00m optim\n\u001b[1;32m     10\u001b[0m \u001b[38;5;28;01mfrom\u001b[39;00m \u001b[38;5;21;01mtrain_model\u001b[39;00m \u001b[38;5;28;01mimport\u001b[39;00m train_model\n",
      "\u001b[0;31mModuleNotFoundError\u001b[0m: No module named 'init'"
     ]
    }
   ],
   "source": [
    "import os\n",
    "os.environ[\"CUDA_VISIBLE_DEVICES\"] = \"0\"\n",
    "import matplotlib.pyplot as plt\n",
    "import json\n",
    "import sys\n",
    "from torch  import nn\n",
    "from tqdm import tqdm\n",
    "from init import *\n",
    "from torch import optim\n",
    "from train_model import train_model\n",
    "import torch.nn.functional as F\n",
    "from lossers import dice_loss\n",
    "from  models_ import get_model"
   ]
  },
  {
   "cell_type": "code",
   "execution_count": null,
   "id": "5821f8ce-fa7f-4f1e-9e86-bb0760153e87",
   "metadata": {},
   "outputs": [],
   "source": [
    "import cv2\n",
    "import numpy as np\n",
    "import kornia as K\n",
    "import math\n",
    "from utiles.mask_utles import get_color_mask,mask2color,show_image_mask, rgbmask2label,label_colormap, image_diff\n",
    "from utiles.mask_utles import rgbmask2label,label2rgbmask,rgb2cls_masks,label2rgbmask2,label_colormap"
   ]
  },
  {
   "cell_type": "code",
   "execution_count": 200,
   "id": "8caf3eec-b3f9-4a17-9929-d749df10337e",
   "metadata": {},
   "outputs": [],
   "source": [
    "import  torch.nn.functional as F"
   ]
  },
  {
   "cell_type": "code",
   "execution_count": 137,
   "id": "149e317a-8bb1-4232-8afc-688da1e27903",
   "metadata": {},
   "outputs": [],
   "source": [
    "ls=[]\n",
    "for x0,y0 in zip(x,y):\n",
    "    l=loss(torch.Tensor([x0]),torch.Tensor([y0]))\n",
    "    ls.append(float(l.numpy()))"
   ]
  },
  {
   "cell_type": "code",
   "execution_count": 167,
   "id": "d2694537-cf20-448a-8721-b2948d60fd83",
   "metadata": {},
   "outputs": [],
   "source": [
    "sm = nn.Softmax()"
   ]
  },
  {
   "cell_type": "code",
   "execution_count": 184,
   "id": "632a6e1b-6007-4a7e-b654-81728eaeba2c",
   "metadata": {},
   "outputs": [
    {
     "name": "stderr",
     "output_type": "stream",
     "text": [
      "/tmp/ipykernel_5291/4177395095.py:1: UserWarning: Implicit dimension choice for softmax has been deprecated. Change the call to include dim=X as an argument.\n",
      "  loss(sm(torch.Tensor([0.001,0.899,0.1])),sm(torch.Tensor([0.001,0.899,0.1])))\n"
     ]
    },
    {
     "data": {
      "text/plain": [
       "tensor(1.0461)"
      ]
     },
     "execution_count": 184,
     "metadata": {},
     "output_type": "execute_result"
    }
   ],
   "source": [
    "loss = nn.MSELoss()\n",
    "loss(sm(torch.Tensor([0.001,0.899,0.1])),sm(torch.Tensor([0.001,0.899,0.1])))"
   ]
  },
  {
   "cell_type": "code",
   "execution_count": 138,
   "id": "a0ebabb4-678a-4eb3-b2ab-edff52632b84",
   "metadata": {},
   "outputs": [
    {
     "data": {
      "text/plain": [
       "[<matplotlib.lines.Line2D at 0x7fbb644c4700>]"
      ]
     },
     "execution_count": 138,
     "metadata": {},
     "output_type": "execute_result"
    },
    {
     "data": {
      "image/png": "[encoded data removed]",
      "text/plain": [
       "<Figure size 640x480 with 1 Axes>"
      ]
     },
     "metadata": {},
     "output_type": "display_data"
    }
   ],
   "source": [
    "plt.plot(y,x,\"o\")\n",
    "plt.plot(y,y,\"o\")\n",
    "plt.plot(y,ls,\"x\")"
   ]
  },
  {
   "cell_type": "code",
   "execution_count": 187,
   "id": "fa104f85-02c6-4890-a2ac-320fd33d05bc",
   "metadata": {},
   "outputs": [],
   "source": [
    "loss = nn.BCEWithLogitsLoss()\n",
    "loss = nn.L1Loss()\n",
    "loss = nn.SmoothL1Loss()\n",
    "loss = nn.MSELoss()\n",
    "# loss = nn.CrossEntropyLoss()"
   ]
  },
  {
   "cell_type": "code",
   "execution_count": 52,
   "id": "4bc59f50-a778-40d4-88b8-5ef8fed3532e",
   "metadata": {},
   "outputs": [
    {
     "data": {
      "text/plain": [
       "tensor(0.5023, device='cuda:0')"
      ]
     },
     "execution_count": 52,
     "metadata": {},
     "output_type": "execute_result"
    }
   ],
   "source": [
    "criterion(image_mask1_2[:,0],image_mask1_2[:,0])"
   ]
  },
  {
   "cell_type": "code",
   "execution_count": 53,
   "id": "47b1f734-f317-4178-924a-a8dbb484d2cf",
   "metadata": {},
   "outputs": [
    {
     "data": {
      "text/plain": [
       "tensor(0.4583, device='cuda:0')"
      ]
     },
     "execution_count": 53,
     "metadata": {},
     "output_type": "execute_result"
    }
   ],
   "source": [
    "loss(image_mask1_2[:,0],image_mask1_2[:,0])"
   ]
  },
  {
   "cell_type": "code",
   "execution_count": null,
   "id": "7a189417-ed64-4e18-b511-10f97e54f747",
   "metadata": {},
   "outputs": [],
   "source": [
    "\n",
    "    loss = criterion(r1, mask1) \\\n",
    "            + dice_loss(F.softmax(r1, dim=1).float(),\n",
    "                        F.one_hot(mask1.squeeze(1), 3).permute(0, 3, 1, 2).float(),\n",
    "                        multiclass=True) "
   ]
  },
  {
   "cell_type": "code",
   "execution_count": 7,
   "id": "605ec417-1fc6-4c35-9de4-dff5f0fbbda5",
   "metadata": {},
   "outputs": [],
   "source": [
    "import torch"
   ]
  },
  {
   "cell_type": "code",
   "execution_count": null,
   "id": "3e4a6b30-9514-48c6-b5a1-8574a0eacc50",
   "metadata": {},
   "outputs": [],
   "source": []
  }
 ],
 "metadata": {
  "kernelspec": {
   "display_name": "Python 3 (ipykernel)",
   "language": "python",
   "name": "python3"
  },
  "language_info": {
   "codemirror_mode": {
    "name": "ipython",
    "version": 3
   },
   "file_extension": ".py",
   "mimetype": "text/x-python",
   "name": "python",
   "nbconvert_exporter": "python",
   "pygments_lexer": "ipython3",
   "version": "3.9.0"
  }
 },
 "nbformat": 4,
 "nbformat_minor": 5
}
