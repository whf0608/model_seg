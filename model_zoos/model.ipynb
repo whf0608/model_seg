{
 "cells": [
  {
   "cell_type": "code",
   "execution_count": 3,
   "id": "f2b67d74-003c-4676-80c6-a818e7fd00f9",
   "metadata": {},
   "outputs": [],
   "source": [
    "from xview2_1st.models import Res34_Unet_Double"
   ]
  },
  {
   "cell_type": "code",
   "execution_count": 1,
   "id": "70c6ae95-0e14-4405-9598-dc3afb3d42f1",
   "metadata": {},
   "outputs": [],
   "source": []
  },
  {
   "cell_type": "code",
   "execution_count": 2,
   "id": "f56b2a70-4521-4f47-8b9d-74600bbbf477",
   "metadata": {},
   "outputs": [],
   "source": [
    "import sys\n",
    "sys.path.append('../mmsegmentation')"
   ]
  },
  {
   "cell_type": "code",
   "execution_count": 8,
   "id": "3b655eb9-8203-4684-b5ac-f345345c69c6",
   "metadata": {},
   "outputs": [],
   "source": [
    "config_file = '../../mmsegmentation/configs/poolformer/fpn_poolformer_s12_8xb4-40k_img8-512x512.py'"
   ]
  },
  {
   "cell_type": "code",
   "execution_count": 9,
   "id": "31eefe78-ff85-4bcf-ad8e-420f3b0b225d",
   "metadata": {},
   "outputs": [],
   "source": [
    "from mmseg.apis import inference_model, init_model, show_result_pyplot"
   ]
  },
  {
   "cell_type": "code",
   "execution_count": 10,
   "id": "7736438c-ad18-4dd2-8656-030cdb857577",
   "metadata": {},
   "outputs": [
    {
     "name": "stderr",
     "output_type": "stream",
     "text": [
      "/home/wanghaifeng/whf_work/work_sync/mmsegmentation/mmseg/models/builder.py:36: UserWarning: ``build_loss`` would be deprecated soon, please use ``mmseg.registry.MODELS.build()`` \n",
      "  warnings.warn('``build_loss`` would be deprecated soon, please use '\n",
      "/home/wanghaifeng/whf_work/work_sync/mmsegmentation/mmseg/models/losses/cross_entropy_loss.py:235: UserWarning: Default ``avg_non_ignore`` is False, if you would like to ignore the certain label and average loss over non-ignore labels, which is the same with PyTorch official cross_entropy, set ``avg_non_ignore=True``.\n",
      "  warnings.warn(\n"
     ]
    }
   ],
   "source": [
    "model = init_model(config=config_file)"
   ]
  },
  {
   "cell_type": "code",
   "execution_count": null,
   "id": "c504d063-5354-4c8b-b310-5eb0e7d67511",
   "metadata": {},
   "outputs": [],
   "source": []
  }
 ],
 "metadata": {
  "kernelspec": {
   "display_name": "Python 3 (ipykernel)",
   "language": "python",
   "name": "python3"
  },
  "language_info": {
   "codemirror_mode": {
    "name": "ipython",
    "version": 3
   },
   "file_extension": ".py",
   "mimetype": "text/x-python",
   "name": "python",
   "nbconvert_exporter": "python",
   "pygments_lexer": "ipython3",
   "version": "3.9.12"
  }
 },
 "nbformat": 4,
 "nbformat_minor": 5
}
