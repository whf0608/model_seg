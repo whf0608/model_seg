{
 "cells": [
  {
   "cell_type": "code",
   "execution_count": 99,
   "id": "2cd33f55-2a93-4cd0-b9a6-f21cbb0b20b2",
   "metadata": {},
   "outputs": [],
   "source": []
  },
  {
   "cell_type": "code",
   "execution_count": 100,
   "id": "784a7d7f-e36e-40c8-8009-4ce15bd2ca56",
   "metadata": {},
   "outputs": [],
   "source": [
    "model = UNet()"
   ]
  },
  {
   "cell_type": "code",
   "execution_count": 101,
   "id": "0bd2fc4d-4314-420b-b55c-1a045d54ab35",
   "metadata": {},
   "outputs": [
    {
     "data": {
      "text/plain": [
       "torch.Size([1, 2, 1024, 1024])"
      ]
     },
     "execution_count": 101,
     "metadata": {},
     "output_type": "execute_result"
    }
   ],
   "source": [
    "model(torch.ones((1,3,1024,1024))).shape"
   ]
  },
  {
   "cell_type": "code",
   "execution_count": null,
   "id": "0bea5e03-8d89-4268-98f7-91a2ff90344b",
   "metadata": {},
   "outputs": [],
   "source": []
  }
 ],
 "metadata": {
  "kernelspec": {
   "display_name": "Python 3 (ipykernel)",
   "language": "python",
   "name": "python3"
  },
  "language_info": {
   "codemirror_mode": {
    "name": "ipython",
    "version": 3
   },
   "file_extension": ".py",
   "mimetype": "text/x-python",
   "name": "python",
   "nbconvert_exporter": "python",
   "pygments_lexer": "ipython3",
   "version": "3.10.13"
  }
 },
 "nbformat": 4,
 "nbformat_minor": 5
}
