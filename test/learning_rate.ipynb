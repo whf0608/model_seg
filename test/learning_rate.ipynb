{
 "cells": [
  {
   "cell_type": "code",
   "execution_count": 55,
   "id": "98574752-f1ae-43f7-837d-c2e69283103a",
   "metadata": {},
   "outputs": [],
   "source": [
    "from init0 import *\n",
    "from models_.unet_model1 import UNet,OutConv\n",
    "from lossers import dice_loss\n",
    "from torch import optim\n",
    "from torch import nn\n",
    "from tqdm import tqdm\n",
    "import torch.nn.functional as F\n",
    "import time\n",
    "from pathlib import Path"
   ]
  },
  {
   "cell_type": "code",
   "execution_count": 56,
   "id": "915ebb9c-f8a1-4db8-b287-f79be61932cc",
   "metadata": {},
   "outputs": [],
   "source": [
    "model = UNet(3,3)"
   ]
  },
  {
   "cell_type": "code",
   "execution_count": 57,
   "id": "592ec2af-0642-4ee3-aca5-8e9818c66700",
   "metadata": {},
   "outputs": [],
   "source": []
  },
  {
   "cell_type": "code",
   "execution_count": 58,
   "id": "131c51b5-cc5b-479d-8708-2ee123cc5e1d",
   "metadata": {},
   "outputs": [],
   "source": [
    "conv = nn.Conv2d(\n",
    "            in_channels=128,\n",
    "            out_channels=128,\n",
    "            kernel_size=3,\n",
    "            stride=1,\n",
    "            padding=1,\n",
    "            groups=16\n",
    "        )"
   ]
  },
  {
   "cell_type": "code",
   "execution_count": 59,
   "id": "b40c29ca-be5d-48a3-b02c-9852c2bc7e32",
   "metadata": {},
   "outputs": [
    {
     "name": "stdout",
     "output_type": "stream",
     "text": [
      "weight torch.Size([128, 8, 3, 3])\n",
      "bias torch.Size([128])\n"
     ]
    }
   ],
   "source": [
    "for name,para in conv.named_parameters():\n",
    "    print(name,para.shape)"
   ]
  },
  {
   "cell_type": "code",
   "execution_count": 61,
   "id": "9f243a6b-612d-4494-a80a-ecc62f93852a",
   "metadata": {},
   "outputs": [],
   "source": [
    "optimizer = optim.RMSprop(conv.parameters(), lr=learning_rate, weight_decay=1e-8, momentum=0.9)\n",
    "optimizer.add_param_group({'params': conv.parameters(), 'lr': 0.001, 'momentum': 0.8})"
   ]
  },
  {
   "cell_type": "code",
   "execution_count": null,
   "id": "2321fe6b-fa58-4432-840f-79f7cd67c15e",
   "metadata": {},
   "outputs": [],
   "source": []
  },
  {
   "cell_type": "code",
   "execution_count": 80,
   "id": "71d1fbbb-aad3-4f01-9e43-537abfbecc3a",
   "metadata": {},
   "outputs": [],
   "source": [
    "class net(nn.Module):\n",
    "    def __init__(self):\n",
    "        super(net, self).__init__()\n",
    "        self.conv1 = nn.Conv2d(3, 64, 1)\n",
    "        self.conv2 = nn.Conv2d(64, 64, 1)\n",
    "        self.conv3 = nn.Conv2d(64, 64, 1)\n",
    "        self.conv4 = nn.Conv2d(64, 64, 1,groups=8)\n",
    "        self.conv5 = nn.Conv2d(64, 64, 1,groups=8)\n",
    "    def forward(self, x):\n",
    "        out = conv5(conv4(conv3(conv2(conv1(x)))))\n",
    "        return out\n",
    "net = net()"
   ]
  },
  {
   "cell_type": "code",
   "execution_count": 86,
   "id": "4c38aee9-baf9-407b-a3ac-68ce03d223b7",
   "metadata": {},
   "outputs": [],
   "source": [
    "optimizer = optim.SGD([\n",
    "                    {'params': [net.conv4.weight,net.conv5.weight],'lr': 1e-2},\n",
    "                    {'params': [net.conv4.bias,net.conv5.bias], 'lr': 1e-1}])"
   ]
  },
  {
   "cell_type": "code",
   "execution_count": 87,
   "id": "eb1210b2-2630-4308-aa18-ac50c76919d9",
   "metadata": {},
   "outputs": [
    {
     "data": {
      "text/plain": [
       "{'state': {},\n",
       " 'param_groups': [{'lr': 0.01,\n",
       "   'momentum': 0,\n",
       "   'dampening': 0,\n",
       "   'weight_decay': 0,\n",
       "   'nesterov': False,\n",
       "   'maximize': False,\n",
       "   'foreach': None,\n",
       "   'params': [0, 1]},\n",
       "  {'lr': 0.1,\n",
       "   'momentum': 0,\n",
       "   'dampening': 0,\n",
       "   'weight_decay': 0,\n",
       "   'nesterov': False,\n",
       "   'maximize': False,\n",
       "   'foreach': None,\n",
       "   'params': [2, 3]}]}"
      ]
     },
     "execution_count": 87,
     "metadata": {},
     "output_type": "execute_result"
    }
   ],
   "source": [
    "optimizer.state_dict()"
   ]
  },
  {
   "cell_type": "code",
   "execution_count": 81,
   "id": "f2f8179d-ef45-4e36-a32e-fb025ee8d2bb",
   "metadata": {},
   "outputs": [
    {
     "data": {
      "text/plain": [
       "torch.Size([64, 8, 1, 1])"
      ]
     },
     "execution_count": 81,
     "metadata": {},
     "output_type": "execute_result"
    }
   ],
   "source": [
    "net.conv4.weight.shape"
   ]
  },
  {
   "cell_type": "code",
   "execution_count": null,
   "id": "d2b5f0dd-7306-4693-9fb9-2e7da01b1c8c",
   "metadata": {},
   "outputs": [],
   "source": []
  },
  {
   "cell_type": "code",
   "execution_count": 69,
   "id": "99c137e1-0f3b-4ef2-9a2f-4ea994e6f044",
   "metadata": {},
   "outputs": [
    {
     "ename": "AttributeError",
     "evalue": "'Parameter' object has no attribute 'parameters'",
     "output_type": "error",
     "traceback": [
      "\u001b[0;31m---------------------------------------------------------------------------\u001b[0m",
      "\u001b[0;31mAttributeError\u001b[0m                            Traceback (most recent call last)",
      "Input \u001b[0;32mIn [69]\u001b[0m, in \u001b[0;36m<cell line: 1>\u001b[0;34m()\u001b[0m\n\u001b[0;32m----> 1\u001b[0m conv5_params \u001b[38;5;241m=\u001b[39m \u001b[38;5;28mlist\u001b[39m(\u001b[38;5;28mmap\u001b[39m(\u001b[38;5;28mid\u001b[39m, \u001b[43mnet\u001b[49m\u001b[38;5;241;43m.\u001b[39;49m\u001b[43mconv5\u001b[49m\u001b[38;5;241;43m.\u001b[39;49m\u001b[43mweight\u001b[49m\u001b[38;5;241;43m.\u001b[39;49m\u001b[43mparameters\u001b[49m()))\n\u001b[1;32m      2\u001b[0m conv4_params \u001b[38;5;241m=\u001b[39m \u001b[38;5;28mlist\u001b[39m(\u001b[38;5;28mmap\u001b[39m(\u001b[38;5;28mid\u001b[39m, net\u001b[38;5;241m.\u001b[39mconv4\u001b[38;5;241m.\u001b[39mweight\u001b[38;5;241m.\u001b[39mparameters()))\n\u001b[1;32m      3\u001b[0m base_params \u001b[38;5;241m=\u001b[39m \u001b[38;5;28mfilter\u001b[39m(\u001b[38;5;28;01mlambda\u001b[39;00m p: \u001b[38;5;28mid\u001b[39m(p) \u001b[38;5;129;01mnot\u001b[39;00m \u001b[38;5;129;01min\u001b[39;00m conv5_params \u001b[38;5;241m+\u001b[39m conv4_params,net\u001b[38;5;241m.\u001b[39mparameters())\n",
      "\u001b[0;31mAttributeError\u001b[0m: 'Parameter' object has no attribute 'parameters'"
     ]
    }
   ],
   "source": [
    "conv5_params = list(map(id, net.conv5.weight.parameters()))\n",
    "conv4_params = list(map(id, net.conv4.weight.parameters()))\n",
    "base_params = filter(lambda p: id(p) not in conv5_params + conv4_params,net.parameters())"
   ]
  },
  {
   "cell_type": "code",
   "execution_count": 61,
   "id": "d5a0a9a9-1111-4c03-af06-6f0104de51e1",
   "metadata": {},
   "outputs": [
    {
     "data": {
      "text/plain": [
       "[140233971544848, 140233971546128]"
      ]
     },
     "execution_count": 61,
     "metadata": {},
     "output_type": "execute_result"
    }
   ],
   "source": [
    "conv5_params"
   ]
  },
  {
   "cell_type": "code",
   "execution_count": 62,
   "id": "c41a0a15-1a3b-418f-a8fa-8c9e3d669237",
   "metadata": {},
   "outputs": [
    {
     "data": {
      "text/plain": [
       "[140233971544848, 140233971546128, 140233971409200, 140233971545728]"
      ]
     },
     "execution_count": 62,
     "metadata": {},
     "output_type": "execute_result"
    }
   ],
   "source": [
    "conv5_params + conv4_params"
   ]
  },
  {
   "cell_type": "code",
   "execution_count": 67,
   "id": "32923197-023f-4ba1-94c1-6d1ed90d9176",
   "metadata": {},
   "outputs": [],
   "source": [
    "base_params = filter(lambda p: id(p) not in conv5_params + conv4_params,net.parameters())"
   ]
  },
  {
   "cell_type": "code",
   "execution_count": 68,
   "id": "71c19541-58ac-4d8c-aba6-7188422a2061",
   "metadata": {},
   "outputs": [
    {
     "name": "stdout",
     "output_type": "stream",
     "text": [
      "torch.Size([64, 3, 1, 1])\n",
      "torch.Size([64])\n",
      "torch.Size([64, 64, 1, 1])\n",
      "torch.Size([64])\n",
      "torch.Size([64, 64, 1, 1])\n",
      "torch.Size([64])\n"
     ]
    }
   ],
   "source": [
    "for _ in  base_params:\n",
    "    print(_.shape)"
   ]
  },
  {
   "cell_type": "code",
   "execution_count": 4,
   "id": "1c89c126-559c-43cd-b580-d01404be5856",
   "metadata": {},
   "outputs": [],
   "source": [
    "import numpy as np\n",
    "import matplotlib.pyplot as plt\n",
    "import cv2"
   ]
  },
  {
   "cell_type": "code",
   "execution_count": 2,
   "id": "98a328e5-3d50-4f98-b8f1-814daa35e764",
   "metadata": {},
   "outputs": [],
   "source": []
  },
  {
   "cell_type": "code",
   "execution_count": 45,
   "id": "bfffea7b-8f8d-449b-b322-0de35d67614e",
   "metadata": {},
   "outputs": [],
   "source": [
    "\n"
   ]
  }
 ],
 "metadata": {
  "kernelspec": {
   "display_name": "Python 3 (ipykernel)",
   "language": "python",
   "name": "python3"
  },
  "language_info": {
   "codemirror_mode": {
    "name": "ipython",
    "version": 3
   },
   "file_extension": ".py",
   "mimetype": "text/x-python",
   "name": "python",
   "nbconvert_exporter": "python",
   "pygments_lexer": "ipython3",
   "version": "3.9.0"
  }
 },
 "nbformat": 4,
 "nbformat_minor": 5
}
