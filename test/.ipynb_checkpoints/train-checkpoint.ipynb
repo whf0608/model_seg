{
 "cells": [
  {
   "cell_type": "code",
   "execution_count": 1,
   "id": "12e9116d-c01b-4b4a-a7a0-f8b5ad77d75c",
   "metadata": {},
   "outputs": [],
   "source": [
    "import os\n",
    "os.environ[\"CUDA_VISIBLE_DEVICES\"] = \"0\"\n",
    "import sys\n",
    "sys.path.append('../segmention_buildings/BuildFormer')\n",
    "sys.path.append('/home/wanghaifeng/whf_work/work_sync/vit/vit-pytorch/vit_pytorch')\n",
    "sys.path.append('/home/wanghaifeng/whf_work/work_sync/satellite_data/models_config/segment-anything/segment_anything')\n",
    "\n",
    "import matplotlib.pyplot as plt\n",
    "import json\n",
    "import sys\n",
    "from torch  import nn\n",
    "from tqdm import tqdm\n",
    "from torch import optim\n",
    "import torch.nn.functional as F\n",
    "import cv2\n",
    "import numpy as np\n",
    "# import kornia as K\n",
    "import math\n",
    "from glob import glob\n",
    "from os.path import join\n",
    "import torch\n"
   ]
  },
  {
   "cell_type": "code",
   "execution_count": 16,
   "id": "5821f8ce-fa7f-4f1e-9e86-bb0760153e87",
   "metadata": {},
   "outputs": [],
   "source": [
    "from init import *\n",
    "from train_model import train_model\n",
    "from lossers import dice_loss\n",
    "from  models import get_model\n",
    "from lossers import get_loss_function\n",
    "from vdatasets import get_dataloader\n",
    "from optimizers_schedulers import get_optimizer_scheduler, update_paramter\n",
    "from utiles.mask_utles import get_color_mask,mask2color,show_image_mask,show_image_mask_, rgbmask2label,label_colormap, image_diff\n",
    "from utiles.mask_utles import rgbmask2label,label2rgbmask,rgb2cls_masks,label2rgbmask2,label_colormap\n",
    "from utiles.tensor2imgmask import *\n",
    "\n",
    "device = torch.device(\"cuda\" if torch.cuda.is_available() else \"cpu\")"
   ]
  },
  {
   "cell_type": "code",
   "execution_count": 21,
   "id": "d97c18c1-d39e-4e3b-b695-e618f5d009d8",
   "metadata": {
    "tags": []
   },
   "outputs": [
    {
     "name": "stdout",
     "output_type": "stream",
     "text": [
      "init model : vgg_unet\n",
      "init optimizer : rmsprop params:  {'lr': 0.001, 'weight_decay': 1e-05, 'momentum': 0.9}\n",
      "init scheduler:  steplr params:  {'step_size': 1, 'gamma': 0.7}\n",
      "init loss : loss_cross_entropy_mutliclas  params: {'mask_key': ['mask1']}\n",
      "init dataset:  seg_dataset\n",
      "----------------------- /home/wanghaifeng/project_work/datasets/disaster_dataset/harvey\n",
      "data config:  {'seed': 1337, 'model': 'vgg_unet', 'data': {'dataset': 'seg_dataset', 'n_classes': 3, 'path': '/home/wanghaifeng/project_work/datasets/disaster_dataset/harvey', 'split': '', 'data_img_size': [1024, 1024], 'use_sub': ['t1', 'mask1'], 'index': 't1', 'limt_num': None, 'used_datainfo': False}, 'training': {'batch_size': 1, 'n_workers': 16, 'img_size': [640, 640], 'optimizer': {'name': 'rmsprop', 'lr': 0.001, 'weight_decay': 1e-05, 'momentum': 0.9}, 'loss': {'name': 'loss_cross_entropy_mutliclas', 'mask_key': ['mask1']}, 'lr_schedule': {'step_size': 1, 'gamma': 0.7}}}\n",
      "select index: t1  index_n: 1\n",
      "----------------init dataset---------------\n",
      "loading dataset: /home/wanghaifeng/project_work/datasets/disaster_dataset/harvey\n",
      "use subdir: ['t1', 'mask1']\n",
      "dataset size: 929\n",
      "data_info:\n",
      "t2 num: 929\n",
      "t1 num: 929\n",
      "t1_b num: 0\n",
      "t2_b num: 0\n",
      "mask1 num: 929\n",
      "mask1_1 num: 0\n",
      "mask1_2 num: 0\n",
      "mask2 num: 929\n",
      "mask1_b num: 0\n",
      "mask2_b num: 0\n",
      "mask1_b1 num: 0\n",
      "mask2_b1 num: 0\n",
      "cd_mask_1 num: 0\n",
      "mask2_1 num: 0\n",
      "mask2_2 num: 0\n",
      "cd_cd_1 num: 0\n",
      "cd_cd num: 0\n",
      "mask2_b2 num: 0\n",
      "images num: 0\n",
      "labels num: 0\n",
      "image num: 0\n",
      "label num: 0\n",
      "label_b num: 0\n",
      "mask_deg_1 num: 0\n",
      "mask_depth_1 num: 0\n",
      "mask_deg_2 num: 0\n",
      "mask_depth_2 num: 0\n",
      "mask1_3 num: 0\n",
      "mask2_3 num: 0\n",
      "cd_mask_3 num: 0\n",
      "cd_mask num: 0\n",
      "------------------------------------------\n"
     ]
    }
   ],
   "source": [
    "##1. 数据配置\n",
    "# config_path = 'model_config/model_base_unet_seg_dataset_test.json'\n",
    "config_path = 'model_config/model_vgg_unet_seg_dataset_harvey.json'\n",
    "cfg = json.load(open(config_path))\n",
    "# cfg['model']='vit_model'\n",
    "# cfg['data']['dataset']='mapdataset'\n",
    "# cfg['data']['use_cls']=['buildings','damaged_buildings']\n",
    "# cfg['data']['path']=r'/home/wanghaifeng/project_work/datasets/data_workspaces/labeled_data/'\n",
    "# cfg['data']['n_classes']=3\n",
    "cfg['training']['batch_size']=1\n",
    "# cfg['training']['img_size']=(1024,1024)\n",
    "\n",
    "n_classes=cfg['data']['n_classes']\n",
    "load_weights =None # './model_works/vgg_unet/vgg_unet_2024_01_23_18_28_53/model.pt'\n",
    "model_not_dataparal = False\n",
    "\n",
    "if load_weights and not Path(load_weights).exists():\n",
    "        load_weights=''\n",
    "\n",
    "model = get_model(cfg['model'])(3, n_classes)\n",
    "\n",
    "if model_not_dataparal:\n",
    "    model.load_state_dict(torch.load(load_weights, map_location='cpu'))\n",
    "    load_weights = ''\n",
    "    \n",
    "model = torch.nn.parallel.DataParallel(model)\n",
    "if load_weights and len(load_weights)>0:\n",
    "    print('loading weights',load_weights)\n",
    "    model.load_state_dict(torch.load(load_weights, map_location='cpu'))\n",
    "\n",
    "optimizer, scheduler = get_optimizer_scheduler(model,cfg)\n",
    "\n",
    "get_train_loss_func = get_loss_function(cfg[\"training\"][\"loss\"].copy())\n",
    "\n",
    "trainloader, valloader = get_dataloader(cfg)\n"
   ]
  },
  {
   "cell_type": "code",
   "execution_count": 22,
   "id": "86520e65-6a4d-425d-b2fa-2116c89f9f4d",
   "metadata": {
    "tags": []
   },
   "outputs": [],
   "source": [
    "# model.float().train()\n",
    "# mask_key=['t1_b','mask1_b1','mask1_2','cd_cd_1','cd_mask_1']\n",
    "import torchvision.transforms.functional as transF\n",
    "mask_key = cfg['training']['loss']['mask_key']\n",
    "for i,data in enumerate(trainloader):   \n",
    "   \n",
    "    img = data[list(data.keys())[0]]\n",
    "    # image_t1   = transF.normalize(img.cuda().float(),[0.31815762,0.32456695,0.29096074],[0.18410079,0.17732723,0.18069517])\n",
    "    image_t1   = torch.nn.functional.normalize(img.cuda().float())\n",
    "    # image_mask1_2 = data[mask_key[2]].cuda()[:,0:1]\n",
    "    # # t1_b   =torch.nn.functional.normalize(data['t1_b'].cuda().float())\n",
    "    # t1_b = data[mask_key[0]].cuda().float()\n",
    "    # # mask1_2   =  data[mask_key[2]].cuda()\n",
    "    # mask_b   =  data[mask_key[1]].cuda().float()/255.0\n",
    "    # mask_cd   =  data[mask_key[3]].cuda().float()/255.0\n",
    "    # mask_cd_mask =  data[mask_key[4]].cuda().float()/255.0\n",
    "    # rs = model(image_t1)\n",
    "    \n",
    "#     if i>3:\n",
    "#         print(i)\n",
    "#         break\n",
    "    break\n"
   ]
  },
  {
   "cell_type": "code",
   "execution_count": 25,
   "id": "cb988323-7720-4cf0-9cac-397448bda262",
   "metadata": {},
   "outputs": [
    {
     "data": {
      "text/plain": [
       "torch.Size([1, 3, 640, 640])"
      ]
     },
     "execution_count": 25,
     "metadata": {},
     "output_type": "execute_result"
    }
   ],
   "source": [
    "data['t1'].shape"
   ]
  },
  {
   "cell_type": "code",
   "execution_count": 14,
   "id": "1c7ccc48-e0c2-4505-9d9b-396987099a4c",
   "metadata": {
    "tags": []
   },
   "outputs": [],
   "source": [
    "###test model\n",
    "\n",
    "# img =  cv2.imread(\"/home/wanghaifeng/project_work/datasets/result_sam/E243100N3303400UTM15R/sum.png\")\n",
    "# img = cv2.cvtColor(img,cv2.COLOR_RGB2BGR)\n",
    "# sub_img  = img[320:640,320:640]\n",
    "\n",
    "# img = cv2.resize(sub_img,(1024,1024))\n",
    "# img = torch.from_numpy(img.transpose(2, 0, 1))\n",
    "# image_t1   = torch.nn.functional.normalize(img.unsqueeze(0).cuda().float())\n",
    "\n",
    "# with torch.no_grad():\n",
    "#     rs = model(image_t1)\n",
    "# img =data['t1'].cpu().numpy()\n",
    "# image_mask1_2 = data[mask_key[0]][:,0]\n",
    "\n",
    "# rs0 = torch.argmax(rs,1)\n",
    "# plt.imshow(rs0[0].detach().cpu().numpy()>0)"
   ]
  },
  {
   "cell_type": "code",
   "execution_count": 11,
   "id": "aa14ba44-e61f-4a72-951b-05e3b9f97502",
   "metadata": {},
   "outputs": [],
   "source": [
    "mask_key=cfg[\"training\"][\"loss\"][\"mask_key\"]\n",
    "loss = get_train_loss_func(rs,data,mask_key=mask_key)"
   ]
  },
  {
   "cell_type": "code",
   "execution_count": 4,
   "id": "63bdcd6f-e9b5-4559-bb09-208b9441dc9c",
   "metadata": {
    "tags": []
   },
   "outputs": [],
   "source": [
    "from thop import profile\n",
    "import torchprof\n",
    "from fvcore.nn import FlopCountAnalysis, parameter_count_table,flop_count_str,flop_count_table,ActivationCountAnalysis\n",
    "\n",
    "def params_count(model):\n",
    "    return np.sum([p.numel() for p in model.parameters()]).item()\n",
    "\n",
    "def analysis_model(model,x=None):\n",
    "    # fa = FlopCountAnalysis(model, imgs)\n",
    "    # print(flop_count_str(FlopCountAnalysis(model, (imgs,imgs))))\n",
    "    tabel = flop_count_table(FlopCountAnalysis(model, x))\n",
    "    # acts = ActivationCountAnalysis(model, imgs)\n",
    "    # acts.by_module()\n",
    "    return tabel\n",
    "\n",
    "def analysis_model1(model,x=None):\n",
    "    flops, params = profile(model, (imgs,))\n",
    "    with torchprof.Profile(model, use_cuda=False) as prof:\n",
    "        model(imgs)\n",
    "    trace, event_lists_dict  = prof.raw()\n",
    "    return trace, event_lists_dict"
   ]
  },
  {
   "cell_type": "code",
   "execution_count": 1,
   "id": "38556155-8e03-4cb8-aca0-b5cdacf1b274",
   "metadata": {},
   "outputs": [],
   "source": [
    "# print(analysis_model(model,x=torch.ones(5,3,1024,1024).cuda()))"
   ]
  },
  {
   "cell_type": "code",
   "execution_count": 5,
   "id": "750554a7-721c-4828-9cfd-5245ac892451",
   "metadata": {
    "tags": []
   },
   "outputs": [],
   "source": [
    "# import torchvision.models\n",
    "# import torch\n",
    "# import torchsummary\n",
    "# device = torch.device('cpu')\n",
    "# model.to(device)\n",
    "# torchsummary.summary(model.cuda(), (3, 224, 224))"
   ]
  },
  {
   "cell_type": "code",
   "execution_count": null,
   "id": "ddf231d7-edfa-444b-ac87-05ef42c02733",
   "metadata": {},
   "outputs": [],
   "source": []
  }
 ],
 "metadata": {
  "kernelspec": {
   "display_name": "Python 3 (ipykernel)",
   "language": "python",
   "name": "python3"
  },
  "language_info": {
   "codemirror_mode": {
    "name": "ipython",
    "version": 3
   },
   "file_extension": ".py",
   "mimetype": "text/x-python",
   "name": "python",
   "nbconvert_exporter": "python",
   "pygments_lexer": "ipython3",
   "version": "3.9.0"
  }
 },
 "nbformat": 4,
 "nbformat_minor": 5
}
