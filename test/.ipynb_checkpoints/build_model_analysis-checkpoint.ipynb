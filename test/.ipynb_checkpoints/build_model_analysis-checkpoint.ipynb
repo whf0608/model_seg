{
 "cells": [
  {
   "cell_type": "code",
   "execution_count": 1,
   "id": "958d0b45-086f-46aa-9da9-0dcb8fbaab19",
   "metadata": {},
   "outputs": [
    {
     "name": "stdout",
     "output_type": "stream",
     "text": [
      "RUNDIR: runs/log/80971\n",
      "[easydl] tensorflow not available!\n"
     ]
    }
   ],
   "source": [
    "from init import *\n",
    "import os\n",
    "import cv2\n",
    "import numpy as np\n",
    "import matplotlib.pyplot as plt\n",
    "from easydl import clear_output\n",
    "import torch\n",
    "from torch import nn\n",
    "import torch.nn.functional as F\n",
    "from modules.operates.ops import conv3x3,conv1x1,residualBlock\n",
    "from modules.blocks.yolo_blocks import C3, Conv"
   ]
  },
  {
   "cell_type": "code",
   "execution_count": 2,
   "id": "566a6d1a-8f7c-4422-ba10-79e969febd9f",
   "metadata": {
    "tags": []
   },
   "outputs": [],
   "source": [
    "class Fusion2Backbone(nn.Module):\n",
    "    def __init__(self,c1,ns=[],ss=[],c_size=True):\n",
    "        super(Fusion2Backbone,self).__init__()\n",
    "        \n",
    "        self.seq = nn.Sequential()\n",
    "        self.seq1 = nn.Sequential()\n",
    "        self.seq2 = nn.Sequential()\n",
    "        c=c1\n",
    "        for i,(n,s) in enumerate(zip(ns,ss)):\n",
    "            subseq = nn.Sequential()\n",
    "            for _ in range(n):\n",
    "                subseq.add_module('c3_'+str(i)+'_'+str(_),C3(c1,c,1))\n",
    "            \n",
    "            if not c_size: c*=s\n",
    "            self.seq.add_module('subseq_'+str(i),subseq)\n",
    "            self.seq1.add_module('c1_'+str(i),Conv(c1,c,k=3,s=s,p=1))\n",
    "            c1=c\n",
    "            \n",
    "            self.seq2.add_module('c1_'+str(i),Conv(c1*2,c1,k=3,s=1,p=1))\n",
    "        self.cov_act1 = Cov_Act(c1,c,3,1,1)\n",
    "        self.cov_act2 = Cov_Act(c1,c,3,1,1)\n",
    "        \n",
    "    def forward(self,x1,x2=None):\n",
    "        if x2  is  None:\n",
    "            x2 = x1\n",
    "        for m,m1,m2 in zip(self.seq,self.seq1,self.seq2):\n",
    "            x1 = m(x1)\n",
    "            y1 = m1(x1)\n",
    "            \n",
    "            x2 = m(x2)\n",
    "            y2 = m1(x2)\n",
    "            x1 = torch.cat([y1*0.8,y2*0.2],1)\n",
    "            x2 = torch.cat([y2*0.8,y1*0.2],1)\n",
    "            \n",
    "            x1 = m2(x1)\n",
    "            x2 = m2(x2)\n",
    "            x1 = self.cov_act1(x1)\n",
    "            x2 = self.cov_act2(x1)\n",
    "        return x1,x2\n",
    "    \n",
    "class Cov_Act(nn.Module):\n",
    "    def __init__(self,c1,c2,k,s,p):\n",
    "        super(Cov_Act,self).__init__()\n",
    "        self.conv = nn.Conv2d(c1, c2, k, s, p, groups=1, bias=False)\n",
    "        # self.bn = nn.BatchNorm2d(c2,eps=0.001,momentum=0.03)\n",
    "        self.act = nn.SiLU()\n",
    "    def forward(self,x):\n",
    "        x = self.conv(x)\n",
    "        x = self.act(x)\n",
    "        return x"
   ]
  },
  {
   "cell_type": "code",
   "execution_count": 1,
   "id": "d40a6d04-f59b-4a7d-9564-7cf492cf3b56",
   "metadata": {},
   "outputs": [],
   "source": [
    "import  torchvision\n",
    "resize = torchvision.transforms.Resize((320,320), interpolation=2)\n",
    "epochs=500 \n",
    "device = 'cuda:6'\n",
    "\n",
    "fb = Fusion2Backbone(3,ns=[6,1,1,6,1,1,6,1,1],ss=[1,1,1,1,1,1,1,1,1])\n",
    "n_claess,train_loader, val_loder = get_dataloader(cfg0)\n",
    "optimizer, scheduler = get_optimizer_scheduler(fb)\n",
    "fb = fb.train().to(device).half()\n",
    "\n",
    "for epoch  in  range(epochs): \n",
    "    losses =[]\n",
    "    # optimizer.zero_grad()\n",
    "    for images in train_loader:\n",
    "        optimizer.zero_grad()\n",
    "        \n",
    "        t1 = images['t1'].to(device).half()\n",
    "        t2 = images['t2'].to(device).half()\n",
    "        t1_b = images['t1_b'].to(device).half()\n",
    "        t2_b = images['t2_b'].to(device).half()\n",
    "       \n",
    "        r1,r2 = fb(t1,t2)\n",
    "        t1_b,t2_b  = resize(t1_b),resize(t2_b)\n",
    "        loss = torch.sum(torch.abs(r1-t1_b))/r1.shape.numel()*10 + torch.sum(torch.abs(r2-t2_b))/r2.shape.numel()*10\n",
    "        loss.backward()\n",
    "        optimizer.step()\n",
    "        scheduler.step()\n",
    "        \n",
    "        losses.append(loss.detach().cpu().numpy())\n",
    "    print('epoch'+str(epoch)+' :', np.sum(losses)/len(losses))\n"
   ]
  },
  {
   "cell_type": "code",
   "execution_count": 63,
   "id": "aabaa38d-afcc-4345-824a-3604d26ae0e5",
   "metadata": {},
   "outputs": [
    {
     "data": {
      "text/plain": [
       "True"
      ]
     },
     "execution_count": 63,
     "metadata": {},
     "output_type": "execute_result"
    }
   ],
   "source": [
    "cv2.imwrite('test.png',img)"
   ]
  },
  {
   "cell_type": "code",
   "execution_count": 11,
   "id": "59916466-a910-44be-b5d3-e780841b2705",
   "metadata": {},
   "outputs": [],
   "source": [
    "def show(t1_b):\n",
    "    img = t1_b[0]\n",
    "    img = img.detach().cpu().numpy()\n",
    "    img = img.transpose(1,2,0)\n",
    "    img = (img-img.min())/img.max()\n",
    "    img*=255\n",
    "    img = img.astype(np.uint8)\n",
    "    return img"
   ]
  },
  {
   "cell_type": "code",
   "execution_count": 18,
   "id": "faf703b0-6296-45a2-ad77-2d77a2844f1d",
   "metadata": {},
   "outputs": [
    {
     "data": {
      "text/plain": [
       "True"
      ]
     },
     "execution_count": 18,
     "metadata": {},
     "output_type": "execute_result"
    }
   ],
   "source": [
    "img = img.astype(np.uint8)\n",
    "cv2.imwrite('test.png',img)"
   ]
  },
  {
   "cell_type": "code",
   "execution_count": 18,
   "id": "357217b9-1af5-48ff-bf74-019c917925b4",
   "metadata": {},
   "outputs": [],
   "source": [
    "# from torchstat import stat\n",
    "# stat(fb, (3, 224, 224))"
   ]
  },
  {
   "cell_type": "code",
   "execution_count": 6,
   "id": "2514fc69-ddca-48f5-99e1-a929e81130ed",
   "metadata": {},
   "outputs": [],
   "source": [
    "# from torchsummary import summary\n",
    "# summary(fb.to(device),input_size=(3,640,640),batch_size=-1)"
   ]
  },
  {
   "cell_type": "code",
   "execution_count": 23,
   "id": "318e9f64-c87d-4e74-b25d-0ea8ed63dc51",
   "metadata": {},
   "outputs": [],
   "source": [
    "from thop import profile\n",
    "import torchprof\n",
    "from fvcore.nn import FlopCountAnalysis, parameter_count_table,flop_count_str,flop_count_table,ActivationCountAnalysis\n",
    "\n",
    "def params_count(model):\n",
    "    return np.sum([p.numel() for p in model.parameters()]).item()\n",
    "\n",
    "def analysis_model(model,x=None):\n",
    "    # fa = FlopCountAnalysis(model, imgs)\n",
    "    # print(flop_count_str(FlopCountAnalysis(model, (imgs,imgs))))\n",
    "    tabel = flop_count_table(FlopCountAnalysis(model, x))\n",
    "    # acts = ActivationCountAnalysis(model, imgs)\n",
    "    # acts.by_module()\n",
    "    return tabel\n",
    "\n",
    "def analysis_model1(model,x=None):\n",
    "    flops, params = profile(model, (imgs,))\n",
    "    with torchprof.Profile(model, use_cuda=False) as prof:\n",
    "        model(imgs)\n",
    "    trace, event_lists_dict  = prof.raw()\n",
    "    return trace, event_lists_dict\n",
    "\n",
    "print(analysis_model(model,x=(imgs,imgs)))"
   ]
  },
  {
   "cell_type": "code",
   "execution_count": 24,
   "id": "632520f3-4304-46c8-be91-66268edb7f78",
   "metadata": {},
   "outputs": [
    {
     "name": "stdout",
     "output_type": "stream",
     "text": [
      "| module                     | #parameters or shape   | #flops     |\n",
      "|:---------------------------|:-----------------------|:-----------|\n",
      "| model                      | 2.268K                 | 2.487G     |\n",
      "|  seq                       |  0.576K                |  0.747G    |\n",
      "|   seq.subseq_0             |   0.216K               |   0.28G    |\n",
      "|    seq.subseq_0.c3_0_0     |    36                  |    46.694M |\n",
      "|    seq.subseq_0.c3_0_1     |    36                  |    46.694M |\n",
      "|    seq.subseq_0.c3_0_2     |    36                  |    46.694M |\n",
      "|    seq.subseq_0.c3_0_3     |    36                  |    46.694M |\n",
      "|    seq.subseq_0.c3_0_4     |    36                  |    46.694M |\n",
      "|    seq.subseq_0.c3_0_5     |    36                  |    46.694M |\n",
      "|   seq.subseq_1.c3_1_0      |   36                   |   46.694M  |\n",
      "|    seq.subseq_1.c3_1_0.cv1 |    5                   |    6.554M  |\n",
      "|    seq.subseq_1.c3_1_0.cv2 |    5                   |    6.554M  |\n",
      "|    seq.subseq_1.c3_1_0.cv3 |    12                  |    17.203M |\n",
      "|    seq.subseq_1.c3_1_0.m.0 |    14                  |    16.384M |\n",
      "|   seq.subseq_2.c3_2_0      |   36                   |   46.694M  |\n",
      "|    seq.subseq_2.c3_2_0.cv1 |    5                   |    6.554M  |\n",
      "|    seq.subseq_2.c3_2_0.cv2 |    5                   |    6.554M  |\n",
      "|    seq.subseq_2.c3_2_0.cv3 |    12                  |    17.203M |\n",
      "|    seq.subseq_2.c3_2_0.m.0 |    14                  |    16.384M |\n",
      "|   seq.subseq_3             |   0.216K               |   0.28G    |\n",
      "|    seq.subseq_3.c3_3_0     |    36                  |    46.694M |\n",
      "|    seq.subseq_3.c3_3_1     |    36                  |    46.694M |\n",
      "|    seq.subseq_3.c3_3_2     |    36                  |    46.694M |\n",
      "|    seq.subseq_3.c3_3_3     |    36                  |    46.694M |\n",
      "|    seq.subseq_3.c3_3_4     |    36                  |    46.694M |\n",
      "|    seq.subseq_3.c3_3_5     |    36                  |    46.694M |\n",
      "|   seq.subseq_4.c3_4_0      |   36                   |   46.694M  |\n",
      "|    seq.subseq_4.c3_4_0.cv1 |    5                   |    6.554M  |\n",
      "|    seq.subseq_4.c3_4_0.cv2 |    5                   |    6.554M  |\n",
      "|    seq.subseq_4.c3_4_0.cv3 |    12                  |    17.203M |\n",
      "|    seq.subseq_4.c3_4_0.m.0 |    14                  |    16.384M |\n",
      "|   seq.subseq_5.c3_5_0      |   36                   |   46.694M  |\n",
      "|    seq.subseq_5.c3_5_0.cv1 |    5                   |    6.554M  |\n",
      "|    seq.subseq_5.c3_5_0.cv2 |    5                   |    6.554M  |\n",
      "|    seq.subseq_5.c3_5_0.cv3 |    12                  |    17.203M |\n",
      "|    seq.subseq_5.c3_5_0.m.0 |    14                  |    16.384M |\n",
      "|  seq1                      |  0.522K                |  0.472G    |\n",
      "|   seq1.c1_0                |   87                   |   78.643M  |\n",
      "|    seq1.c1_0.conv          |    81                  |    66.355M |\n",
      "|    seq1.c1_0.bn            |    6                   |    12.288M |\n",
      "|   seq1.c1_1                |   87                   |   78.643M  |\n",
      "|    seq1.c1_1.conv          |    81                  |    66.355M |\n",
      "|    seq1.c1_1.bn            |    6                   |    12.288M |\n",
      "|   seq1.c1_2                |   87                   |   78.643M  |\n",
      "|    seq1.c1_2.conv          |    81                  |    66.355M |\n",
      "|    seq1.c1_2.bn            |    6                   |    12.288M |\n",
      "|   seq1.c1_3                |   87                   |   78.643M  |\n",
      "|    seq1.c1_3.conv          |    81                  |    66.355M |\n",
      "|    seq1.c1_3.bn            |    6                   |    12.288M |\n",
      "|   seq1.c1_4                |   87                   |   78.643M  |\n",
      "|    seq1.c1_4.conv          |    81                  |    66.355M |\n",
      "|    seq1.c1_4.bn            |    6                   |    12.288M |\n",
      "|   seq1.c1_5                |   87                   |   78.643M  |\n",
      "|    seq1.c1_5.conv          |    81                  |    66.355M |\n",
      "|    seq1.c1_5.bn            |    6                   |    12.288M |\n",
      "|  seq2                      |  1.008K                |  0.87G     |\n",
      "|   seq2.c1_0                |   0.168K               |   0.145G   |\n",
      "|    seq2.c1_0.conv          |    0.162K              |    0.133G  |\n",
      "|    seq2.c1_0.bn            |    6                   |    12.288M |\n",
      "|   seq2.c1_1                |   0.168K               |   0.145G   |\n",
      "|    seq2.c1_1.conv          |    0.162K              |    0.133G  |\n",
      "|    seq2.c1_1.bn            |    6                   |    12.288M |\n",
      "|   seq2.c1_2                |   0.168K               |   0.145G   |\n",
      "|    seq2.c1_2.conv          |    0.162K              |    0.133G  |\n",
      "|    seq2.c1_2.bn            |    6                   |    12.288M |\n",
      "|   seq2.c1_3                |   0.168K               |   0.145G   |\n",
      "|    seq2.c1_3.conv          |    0.162K              |    0.133G  |\n",
      "|    seq2.c1_3.bn            |    6                   |    12.288M |\n",
      "|   seq2.c1_4                |   0.168K               |   0.145G   |\n",
      "|    seq2.c1_4.conv          |    0.162K              |    0.133G  |\n",
      "|    seq2.c1_4.bn            |    6                   |    12.288M |\n",
      "|   seq2.c1_5                |   0.168K               |   0.145G   |\n",
      "|    seq2.c1_5.conv          |    0.162K              |    0.133G  |\n",
      "|    seq2.c1_5.bn            |    6                   |    12.288M |\n",
      "|  cov_act1.conv             |  81                    |  0.199G    |\n",
      "|   cov_act1.conv.weight     |   (3, 3, 3, 3)         |            |\n",
      "|  cov_act2.conv             |  81                    |  0.199G    |\n",
      "|   cov_act2.conv.weight     |   (3, 3, 3, 3)         |            |\n",
      "params_count:  2268\n"
     ]
    }
   ],
   "source": [
    "imgs = torch.ones((1,3,640,640))\n",
    "\n",
    "print(analysis_model(model,x=(imgs,imgs)))\n",
    "print('params_count: ',params_count(fb))"
   ]
  },
  {
   "cell_type": "code",
   "execution_count": null,
   "id": "48b45c48-c804-4005-bc4d-357751080298",
   "metadata": {},
   "outputs": [],
   "source": []
  }
 ],
 "metadata": {
  "kernelspec": {
   "display_name": "Python 3 (ipykernel)",
   "language": "python",
   "name": "python3"
  },
  "language_info": {
   "codemirror_mode": {
    "name": "ipython",
    "version": 3
   },
   "file_extension": ".py",
   "mimetype": "text/x-python",
   "name": "python",
   "nbconvert_exporter": "python",
   "pygments_lexer": "ipython3",
   "version": "3.9.12"
  }
 },
 "nbformat": 4,
 "nbformat_minor": 5
}
