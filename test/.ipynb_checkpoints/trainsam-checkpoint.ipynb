{
 "cells": [
  {
   "cell_type": "code",
   "execution_count": 1,
   "id": "12e9116d-c01b-4b4a-a7a0-f8b5ad77d75c",
   "metadata": {},
   "outputs": [],
   "source": [
    "import os\n",
    "os.environ[\"CUDA_VISIBLE_DEVICES\"] = \"0\"\n",
    "import sys\n",
    "sys.path.append('../segmention_buildings/BuildFormer')\n",
    "import matplotlib.pyplot as plt\n",
    "import json\n",
    "import sys\n",
    "from torch  import nn\n",
    "from tqdm import tqdm\n",
    "from torch import optim\n",
    "import torch.nn.functional as F\n",
    "import cv2\n",
    "import numpy as np\n",
    "import kornia as K\n",
    "import math\n",
    "from glob import glob\n",
    "import torch"
   ]
  },
  {
   "cell_type": "code",
   "execution_count": 3,
   "id": "5821f8ce-fa7f-4f1e-9e86-bb0760153e87",
   "metadata": {},
   "outputs": [],
   "source": [
    "sys.path.append('/home/wanghaifeng/whf_work/work_sync/vit/vit-pytorch/vit_pytorch')\n",
    "sys.path.append('/home/wanghaifeng/whf_work/work_sync/satellite_data/models_config/segment-anything/segment_anything')\n",
    "\n",
    "from init import *\n",
    "from train_model import train_model\n",
    "from lossers import dice_loss\n",
    "from  models import get_model\n",
    "from lossers import get_loss_function\n",
    "from datasets import get_dataloader\n",
    "from geoseg.models.BuildFormer import BuildFormerSegDP\n",
    "from optimizers_schedulers import get_optimizer_scheduler, update_paramter\n",
    "from utiles.mask_utles import get_color_mask,mask2color,show_image_mask,show_image_mask_, rgbmask2label,label_colormap, image_diff\n",
    "from utiles.mask_utles import rgbmask2label,label2rgbmask,rgb2cls_masks,label2rgbmask2,label_colormap\n",
    "from utiles.tensor2imgmask import *"
   ]
  },
  {
   "cell_type": "code",
   "execution_count": 4,
   "id": "d97c18c1-d39e-4e3b-b695-e618f5d009d8",
   "metadata": {
    "tags": []
   },
   "outputs": [
    {
     "name": "stdout",
     "output_type": "stream",
     "text": [
      "init dataset:  seg_dataset\n",
      "----------------------- /home/wanghaifeng/project_work/datasets/disaster_dataset/imgs8\n",
      "select index: cd_cd_1  index_n: 15\n",
      "----------------init dataset---------------\n",
      "loading dataset: /home/wanghaifeng/project_work/datasets/disaster_dataset/imgs8\n",
      "use subdir: ['t2', 'mask2_2']\n",
      "dataset size: 680\n",
      "data_info:\n",
      "t2 num: 2036\n",
      "t1 num: 2059\n",
      "t1_b num: 2059\n",
      "t2_b num: 2059\n",
      "mask1 num: 680\n",
      "mask1_1 num: 2036\n",
      "mask1_2 num: 0\n",
      "mask2 num: 2036\n",
      "mask1_b num: 2059\n",
      "mask2_b num: 2059\n",
      "mask1_b1 num: 0\n",
      "mask2_b1 num: 2059\n",
      "cd_mask_1 num: 680\n",
      "mask2_1 num: 2036\n",
      "mask2_2 num: 2036\n",
      "cd_cd_1 num: 680\n",
      "cd_cd num: 680\n",
      "mask2_b2 num: 0\n",
      "image num: 0\n",
      "label num: 0\n",
      "label_b num: 0\n",
      "mask_deg_1 num: 0\n",
      "mask_depth_1 num: 0\n",
      "mask_deg_2 num: 0\n",
      "mask_depth_2 num: 0\n",
      "mask1_3 num: 0\n",
      "mask2_3 num: 2036\n",
      "cd_mask_3 num: 680\n",
      "cd_mask num: 680\n",
      "------------------------------------------\n"
     ]
    }
   ],
   "source": [
    "device = torch.device(\"cuda\" if torch.cuda.is_available() else \"cpu\")\n",
    "##1. 数据配置\n",
    "config_path = './model_config/model_vgg_unet_seg_dataset_imgs8.json'\n",
    "cfg = json.load(open(config_path))\n",
    "# cfg['data']['dataset']='disaster_dataset'\n",
    "# cfg['data']['path']=r'./model_config/dataset_config_xBDearthquake.json'\n",
    "# cfg['data']['n_classes']=3\n",
    "cfg['training']['batch_size']=1\n",
    "cfg['training']['img_size']=(1024,1024)\n",
    "\n",
    "n_classes=cfg['data']['n_classes']\n",
    "load_weights =''\n",
    "\n",
    "if not Path(load_weights).exists():\n",
    "        load_weights=''\n",
    "\n",
    "# model = get_model(cfg['model'])(3, n_classes)\n",
    "# model = torch.nn.parallel.DataParallel(model)\n",
    "# if len(load_weights)>0:\n",
    "#     print('loading weights',load_weights)\n",
    "#     model.load_state_dict(torch.load(load_weights, map_location='cpu'))\n",
    "\n",
    "# optimizer, scheduler = get_optimizer_scheduler(model,cfg)\n",
    "\n",
    "# get_train_loss_func = get_loss_function(cfg[\"training\"][\"loss\"].copy())\n",
    "\n",
    "trainloader, valloader = get_dataloader(cfg)"
   ]
  },
  {
   "cell_type": "code",
   "execution_count": 5,
   "id": "86520e65-6a4d-425d-b2fa-2116c89f9f4d",
   "metadata": {
    "tags": []
   },
   "outputs": [],
   "source": [
    "# model.float().train()\n",
    "# mask_key=['t1_b','mask1_b1','mask1_2','cd_cd_1','cd_mask_1']\n",
    "mask_key = cfg['training']['loss']['mask_key']\n",
    "for i,data in enumerate(trainloader):   \n",
    "    image_t1   = torch.nn.functional.normalize(data[list(data.keys())[0]].cuda().float())\n",
    "    # rs = model(image_t1)\n",
    "    if i==1:\n",
    "        break"
   ]
  },
  {
   "cell_type": "code",
   "execution_count": 6,
   "id": "4e806d9c-f59f-4558-b9cc-7a81b5eaaffb",
   "metadata": {},
   "outputs": [
    {
     "name": "stdout",
     "output_type": "stream",
     "text": [
      "init model\n"
     ]
    }
   ],
   "source": [
    "from modeling.image_encoder import ImageEncoderViT\n",
    "model = ImageEncoderViT(embed_dim=1280,depth=32,num_heads=16,global_attn_indexes=[7,15,23,31],img_size=1024,qkv_bias=True,use_rel_pos=True,window_size=14,out_chans=256)\n",
    "model.cuda()\n",
    "print('init model')"
   ]
  },
  {
   "cell_type": "code",
   "execution_count": 7,
   "id": "2e2b1a3e-c0f1-4ceb-8741-ebd0f2a04878",
   "metadata": {},
   "outputs": [],
   "source": [
    "sam_checkpoint = \"/home/wanghaifeng/whf_work/models/image_encoder.pth\""
   ]
  },
  {
   "cell_type": "code",
   "execution_count": 8,
   "id": "e07cd8d0-0db4-4fc1-bf21-f324fec7f20e",
   "metadata": {},
   "outputs": [
    {
     "data": {
      "text/plain": [
       "<All keys matched successfully>"
      ]
     },
     "execution_count": 8,
     "metadata": {},
     "output_type": "execute_result"
    }
   ],
   "source": [
    "sam = torch.load(sam_checkpoint,map_location='cpu')\n",
    "model.load_state_dict(sam)"
   ]
  },
  {
   "cell_type": "code",
   "execution_count": 10,
   "id": "efdaefb1-3fbc-4e4d-9635-95bc8524fe10",
   "metadata": {},
   "outputs": [],
   "source": [
    "result = model(image_t1)"
   ]
  },
  {
   "cell_type": "code",
   "execution_count": 23,
   "id": "3f9dafd1-ec1e-45c3-bdf3-15dc6fa3b946",
   "metadata": {
    "tags": []
   },
   "outputs": [
    {
     "data": {
      "text/plain": [
       "torch.Size([1, 256, 64, 64])"
      ]
     },
     "execution_count": 23,
     "metadata": {},
     "output_type": "execute_result"
    }
   ],
   "source": [
    "result.shape"
   ]
  },
  {
   "cell_type": "code",
   "execution_count": 16,
   "id": "ddcc78ed-7207-46b0-b8b1-3d7f6d20b84a",
   "metadata": {},
   "outputs": [],
   "source": [
    "r = result.cpu().numpy()"
   ]
  },
  {
   "cell_type": "code",
   "execution_count": 22,
   "id": "ba698dc1-78d5-42bc-9dcd-b3fbb5e0eed4",
   "metadata": {
    "tags": []
   },
   "outputs": [
    {
     "data": {
      "text/plain": [
       "<matplotlib.image.AxesImage at 0x7f1df8385340>"
      ]
     },
     "execution_count": 22,
     "metadata": {},
     "output_type": "execute_result"
    },
    {
     "data": {
      "image/png": "[encoded data removed]",
      "text/plain": [
       "<Figure size 640x480 with 1 Axes>"
      ]
     },
     "metadata": {},
     "output_type": "display_data"
    }
   ],
   "source": [
    "plt.imshow(r[0,9],'gray')"
   ]
  },
  {
   "cell_type": "code",
   "execution_count": null,
   "id": "d883a641-c4aa-4e54-ac16-71145e108cab",
   "metadata": {},
   "outputs": [],
   "source": []
  },
  {
   "cell_type": "code",
   "execution_count": 57,
   "id": "2fd34052-355a-45de-ae02-15010d31734a",
   "metadata": {},
   "outputs": [],
   "source": [
    "import sys\n",
    "# sys.path.append(os.getcwd()+'/../models_seg')\n",
    "sys.path.append(os.getcwd()+'/../satellite_data/valite_dataset_sys')\n",
    "\n",
    "# from utiles.mask_utles import get_color_mask,mask2color,show_image_mask,show_image_mask_, rgbmask2label,label_colormap, image_diff\n",
    "# from lib.utils.points_utils import get_sub_label_mask\n",
    "from lib.utils.mask2svg import mask2pointss,draw_svg_label_color\n",
    "\n",
    "from skimage import data, exposure"
   ]
  },
  {
   "cell_type": "code",
   "execution_count": null,
   "id": "8a83be43-ff69-4303-a6be-d0cf4ad3275c",
   "metadata": {
    "tags": []
   },
   "outputs": [
    {
     "name": "stderr",
     "output_type": "stream",
     "text": [
      "/home/wanghaifeng/whf_work/work_sync/models_seg/utiles/mask_utles.py:52: RuntimeWarning: More than 20 figures have been opened. Figures created through the pyplot interface (`matplotlib.pyplot.figure`) are retained until explicitly closed and may consume too much memory. (To control this warning, see the rcParam `figure.max_open_warning`). Consider using `matplotlib.pyplot.close()`.\n",
      "  plt.figure(figsize=(20,20))\n"
     ]
    }
   ],
   "source": [
    "from glob import glob\n",
    "img_size = (1024,1024)\n",
    "imgs_path = glob(r'/home/wanghaifeng/project_work/datasets/disaster_dataset/imgs8/train/t2/*.png')\n",
    "# imgs_path = glob('/home/wanghaifeng/project_work/datasets/disaster_dataset/harvey/train/t1/*.png')\n",
    "num_limt = len(imgs_path)\n",
    "# num_limt = 1\n",
    "for ni,img_p in enumerate(imgs_path[0:num_limt]):\n",
    "        img = cv2.imread(img_p)\n",
    "        if img is None:  continue\n",
    "        img = cv2.cvtColor(img,cv2.COLOR_RGB2BGR)\n",
    "        img_orgin = cv2.resize(img,img_size)\n",
    "        \n",
    "        img = img_orgin.copy()\n",
    "        \n",
    "        mask2_p = img_p.replace('t2','mask2_2')\n",
    "        if Path(mask2_p).exists():\n",
    "            mask = cv2.imread(mask2_p)\n",
    "            mask = cv2.resize(mask, img_size)\n",
    "        else:\n",
    "            print(\"not exists mask==================\")\n",
    "            mask = np.ones(img.shpe)\n",
    "        \n",
    "        img = img.transpose(2,0,1)\n",
    "        img = np.array([img])\n",
    "        img = torch.from_numpy(img).to(device).float()\n",
    "        img =torch.nn.functional.normalize(img)\n",
    "\n",
    "        with torch.no_grad():\n",
    "            rs = model(img)\n",
    "            \n",
    "        img0 = img_orgin.copy()\n",
    "        mask_label0 = np.zeros(img0.shape,np.uint8)\n",
    "\n",
    "        mask = mask[:,:,0]\n",
    "        mask_label0[mask==1]=[0,255,0]\n",
    "        mask_label0[mask>1]=[255,0,255]\n",
    "\n",
    "        mask = torch.argmax(rs,1).detach().cpu().numpy()[0]\n",
    "        img0 = cv2.resize(img_orgin,dsize = mask.shape)\n",
    "        \n",
    "        r_mask0 = np.zeros(img0.shape,np.uint8)\n",
    "        r_mask0[mask==1]=[0,255,0]\n",
    "        r_mask0[mask==2]=[255,0,255]\n",
    "        \n",
    "        r_mask0 = cv2.resize(r_mask0,dsize = img_orgin.shape[:2])\n",
    "        \n",
    "        save_path = '/home/wanghaifeng/whf_work/model_works/FPN_foolformer_result_imgs8/'+img_p.split('/')[-1]\n",
    "        show_image_mask_(mask_label0,img_orgin,n=0.5,save_path=save_path.replace('.png' ,'_gt.png'))\n",
    "        # show_image_mask_(r_mask0,img0,n=0.5,save_path=save_path.replace('.png' ,'_fix.png'))\n",
    "        show_image_mask_(r_mask0,img_orgin,n=0.5,save_path=save_path.replace('.png' ,'_pre.png'))\n",
    "        "
   ]
  },
  {
   "cell_type": "code",
   "execution_count": 7,
   "id": "5c48eb02-c7f8-413b-9fb8-6007a020d4ad",
   "metadata": {
    "tags": []
   },
   "outputs": [],
   "source": [
    "def mask_pre_2_normal(mask, hull=False,full=False,minpoly=False):\n",
    "    mask = np.array(mask*255,np.uint8)\n",
    "    # mask = cv2.dilate(mask, None)\n",
    "    kernel = cv2.getStructuringElement(cv2.MORPH_RECT, (3, 3))\n",
    "    mask= cv2.dilate(mask, kernel,2)\n",
    "\n",
    "    kernel = cv2.getStructuringElement(cv2.MORPH_RECT, (3, 3))\n",
    "    mask= cv2.erode(mask, kernel,2)\n",
    "\n",
    "    contours, hierarchy = cv2.findContours(mask, cv2.RETR_EXTERNAL, cv2.CHAIN_APPROX_SIMPLE)\n",
    "    \n",
    "    contours0=[]\n",
    "    for contour in contours:\n",
    "        if cv2.contourArea(contour)>100:\n",
    "            if hull:contour = cv2.convexHull(contour)\n",
    "            if minpoly:contour = cv2.approxPolyDP(contour,3,True)\n",
    "            \n",
    "            points=[]\n",
    "            for c in contour[0:]:\n",
    "                points.append([int(c[0][0]), int(c[0][1])])\n",
    "            points.append([int(contour[0][0][0]), int(contour[0][0][1])])\n",
    "            contour = points\n",
    "            contours0.append(np.array(contour))\n",
    "       \n",
    "    if full:\n",
    "        mask = np.zeros(mask.shape)\n",
    "        mask = cv2.fillPoly(mask, contours0, 255)\n",
    "    mask = mask.astype(np.uint8)\n",
    "    return mask,contours0,contours"
   ]
  }
 ],
 "metadata": {
  "kernelspec": {
   "display_name": "Python 3 (ipykernel)",
   "language": "python",
   "name": "python3"
  },
  "language_info": {
   "codemirror_mode": {
    "name": "ipython",
    "version": 3
   },
   "file_extension": ".py",
   "mimetype": "text/x-python",
   "name": "python",
   "nbconvert_exporter": "python",
   "pygments_lexer": "ipython3",
   "version": "3.9.0"
  }
 },
 "nbformat": 4,
 "nbformat_minor": 5
}
