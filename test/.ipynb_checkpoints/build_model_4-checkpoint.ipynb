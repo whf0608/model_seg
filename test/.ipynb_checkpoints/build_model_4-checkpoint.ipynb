{
 "cells": [
  {
   "cell_type": "code",
   "execution_count": 5,
   "id": "958d0b45-086f-46aa-9da9-0dcb8fbaab19",
   "metadata": {},
   "outputs": [],
   "source": [
    "from init import *\n",
    "import os\n",
    "import numpy as np\n",
    "from torch import nn\n",
    "import torch\n",
    "from modules.operates.ops import conv3x3,conv1x1,residualBlock\n",
    "from modules.blocks.yolo_blocks import C3, Conv\n",
    "from modules.blocks.input_blocks import MultiKernelInput,CovAndHW,Fusion2Branch,Fusion3Branch\n",
    "from lossers import dice_loss"
   ]
  },
  {
   "cell_type": "code",
   "execution_count": 3,
   "id": "f7e16118-2c87-4c78-85ed-5b0817f07e9e",
   "metadata": {
    "tags": []
   },
   "outputs": [],
   "source": [
    "class Fusion2Backbone(nn.Module):\n",
    "    def __init__(self,c1,ns=[],ss=[],c_size=True):\n",
    "        super(Fusion2Backbone,self).__init__()\n",
    "        \n",
    "        self.seq = nn.Sequential()\n",
    "        self.seq1 = nn.Sequential()\n",
    "        self.seq2 = nn.Sequential()\n",
    "        c=c1\n",
    "        for i,(n,s) in enumerate(zip(ns,ss)):\n",
    "            subseq = nn.Sequential()\n",
    "            for _ in range(n):\n",
    "                subseq.add_module('c3_'+str(i)+'_'+str(_),C3(c1,c,1))\n",
    "            \n",
    "            if not c_size: c*=s\n",
    "            self.seq.add_module('subseq_'+str(i),subseq)\n",
    "            self.seq1.add_module('c1_'+str(i),Conv(c1,c,k=3,s=s,p=1))\n",
    "            c1=c\n",
    "            \n",
    "            self.seq2.add_module('c1_'+str(i),Conv(c1*2,c1,k=3,s=1,p=1))\n",
    "        self.cov_act1 = Cov_Act(c1,c,3,1,1)\n",
    "        self.cov_act2 = Cov_Act(c1,c,3,1,1)\n",
    "        \n",
    "    def forward(self,x1,x2):\n",
    "        for m,m1,m2 in zip(self.seq,self.seq1,self.seq2):\n",
    "            x1 = m(x1)\n",
    "            y1 = m1(x1)\n",
    "            \n",
    "            x2 = m(x2)\n",
    "            y2 = m1(x2)\n",
    "            x1 = torch.cat([y1*0.8,y2*0.2],1)\n",
    "            x2 = torch.cat([y2*0.8,y1*0.2],1)\n",
    "            \n",
    "            x1 = m2(x1)\n",
    "            x2 = m2(x2)\n",
    "            x1 = self.cov_act1(x1)\n",
    "            x2 = self.cov_act2(x2)\n",
    "        return x1,x2\n",
    "    \n",
    "class Cov_Act(nn.Module):\n",
    "    def __init__(self,c1,c2,k,s,p):\n",
    "        super(Cov_Act,self).__init__()\n",
    "        self.conv = nn.Conv2d(c1, c2, k, s, p, groups=1, bias=False)\n",
    "        # self.bn = nn.BatchNorm2d(c2,eps=0.001,momentum=0.03)\n",
    "        self.act = nn.SiLU()\n",
    "    def forward(self,x):\n",
    "        x = self.conv(x)\n",
    "        x = self.act(x)\n",
    "        return x\n",
    "\n",
    "\n",
    "\n",
    "class Model(nn.Module):\n",
    "    def __init__(self, ch=3):\n",
    "        super(Model, self).__init__()\n",
    "        self.ch=ch\n",
    "        self.m_ch = 64\n",
    "        self.out_ch=1\n",
    "        self.MI = MultiKernelInput(3, self.m_ch)\n",
    "        self.model = nn.Sequential()\n",
    "        self.fb = Fusion2Backbone(self.m_ch,ns=[6,1,1,6,1,1],ss=[1,1,1,1,1,1])\n",
    "        self.cov1 =  Conv(self.m_ch,self.out_ch,3,1,1)\n",
    "        self.cov2 =  Conv(self.m_ch,self.out_ch,3,1,1)\n",
    "        \n",
    "    def forward(self, x1=None,x2=None):\n",
    "        if x2 is None:  x2 = x1.copy()\n",
    "        x1 = self.MI(x1)\n",
    "        x2 = self.MI(x2)        \n",
    "        x1,x2 = self.fb(x1,x2)\n",
    "        x1 = self.cov1(x1)\n",
    "        x2 = self.cov2(x2)\n",
    "        return x1,x2\n",
    "    \n",
    "# blocks=[conv3x3,residualBlock,conv3x3,residualBlock,conv3x3,residualBlock,conv3x3], repeats=[1,3,1,3,1,3,1],downs=[1,1,2,1,1,1,1]\n",
    "# model = Model(3)\n",
    "# imgs = torch.zeros((1,3,640,640))\n",
    "# r1,r2 = model(imgs,imgs)\n",
    "# print(r1.shape)"
   ]
  },
  {
   "cell_type": "code",
   "execution_count": 3,
   "id": "a4d7b7bf-f480-4365-8bde-7180f4fe2fce",
   "metadata": {},
   "outputs": [
    {
     "name": "stderr",
     "output_type": "stream",
     "text": [
      "/home/wanghaifeng/.local/lib/python3.9/site-packages/torchvision/transforms/transforms.py:287: UserWarning: Argument interpolation should be of type InterpolationMode instead of int. Please, use InterpolationMode enum.\n",
      "  warnings.warn(\n"
     ]
    },
    {
     "name": "stdout",
     "output_type": "stream",
     "text": [
      "epoch0 : 13.71011038246244\n"
     ]
    }
   ],
   "source": [
    "import  torchvision\n",
    "resize = torchvision.transforms.Resize((320,320), interpolation=2)\n",
    "\n",
    "device = 'cuda:5'\n",
    "epochs=500 \n",
    "\n",
    "fb = Model(3)\n",
    "fb = fb.train()\n",
    "fb=fb.to(device)\n",
    "fb = fb.half()\n",
    "\n",
    "cfg['training']['batch_size']=4\n",
    "cfg['training']['n_workers']=16\n",
    "cfg['data']['img_rows']=640\n",
    "cfg['data']['img_cols']=640\n",
    "cfg0['training']['optimizer']['lr']=0.001\n",
    "\n",
    "n_claess,train_loader, val_loder = get_dataloader(cfg)\n",
    "optimizer, scheduler = get_optimizer_scheduler(fb)\n",
    "\n",
    "\n",
    "for epoch  in  range(epochs): \n",
    "    losses =[]\n",
    "    # optimizer.zero_grad()\n",
    "    for images in train_loader:\n",
    "        optimizer.zero_grad()\n",
    "        t1 = images['image_mask'].to(device).half()\n",
    "        t2 = images['image_mask'].to(device).half()\n",
    "        t1_b = images['image'].to(device).half()\n",
    "        t2_b = images['image'].to(device).half()\n",
    "        \n",
    "        r1,r2 = fb(t1,t2)\n",
    "        t1_b = resize(t1_b)\n",
    "        t2_b = resize(t2_b)\n",
    "        # loss = (torch.abs(r1-t1_b).double().sum()/r1.shape.numel() + torch.abs(r2-t2_b).double().sum()/r2.shape.numel())/1.0\n",
    "        loss = criterion(r1,t1_b)\\\n",
    "                           + dice_loss(F.softmax(r1, dim=1).float(),\n",
    "                                       F.one_hot(t1_b.squeeze(1), 3).permute(0, 3, 1, 2).float(),\n",
    "                                       multiclass=True)\\\n",
    "                +criterion(r2,t2_b)\\\n",
    "                           + dice_loss(F.softmax(r2, dim=1).float(),\n",
    "                                       F.one_hot(t2_b.squeeze(1), 3).permute(0, 3, 1, 2).float(),\n",
    "                                       multiclass=True)\n",
    "        \n",
    "        loss.backward()\n",
    "        optimizer.step()\n",
    "        scheduler.step()\n",
    "        # optimizer.zero_grad()\n",
    " \n",
    "        losses.append(loss.detach().cpu().numpy())\n",
    "    print('epoch'+str(epoch)+' :', np.sum(losses)/len(losses))"
   ]
  },
  {
   "cell_type": "code",
   "execution_count": 6,
   "id": "38d17dec-afc6-4c42-b73f-336a6ac2c0c7",
   "metadata": {},
   "outputs": [],
   "source": [
    "def model_data_device_precision(model_datas=[],device='cuda:7',precision='half'):\n",
    "    for i,md in enumerate(model_datas):\n",
    "        md = md.to(device)\n",
    "        \n",
    "        if precision == 'half':\n",
    "            md = md.half()\n",
    "        elif precision == 'float':\n",
    "            md  = md.float()\n",
    "        model_datas[i] =md\n",
    "    return model_datas"
   ]
  },
  {
   "cell_type": "code",
   "execution_count": 4,
   "id": "730eefdc-c024-4030-8bf9-19e2a26e3a39",
   "metadata": {},
   "outputs": [],
   "source": [
    "#     fb = fb.train().half()\n",
    "#     for _ in  range(100):    \n",
    "#         optimizer.zero_grad()\n",
    "#         t1 = images['image_mask'].to(device).half()\n",
    "#         t2 = images['image_mask'].to(device).half()\n",
    "#         t1_b = images['image'].to(device).half()\n",
    "#         t2_b = images['image'].to(device).half()\n",
    "        \n",
    "#         r1,r2 = fb(t1,t1)\n",
    "        \n",
    "#         t1_b = resize(t1)\n",
    "#         t2_b = resize(t1)\n",
    "#         # loss = (torch.abs(r1-t1_b).double().sum()/r1.shape.numel() + torch.abs(r2-t2_b).double().sum()/r2.shape.numel())/1.0\n",
    "        \n",
    "#         loss.backward()\n",
    "#         optimizer.step()\n",
    "#         # scheduler.step()\n",
    "#         print(loss.detach().cpu().numpy())"
   ]
  },
  {
   "cell_type": "code",
   "execution_count": 33,
   "id": "1c0d015a-6122-446d-bc4a-b3e70dd261f5",
   "metadata": {},
   "outputs": [],
   "source": [
    "torch.save(fb,'test.pt')"
   ]
  },
  {
   "cell_type": "code",
   "execution_count": 4,
   "id": "66271cb8-d2ab-453a-be8a-b07bf5f8e6c9",
   "metadata": {},
   "outputs": [],
   "source": [
    "def show(t1_b):\n",
    "    img = t1_b[0]\n",
    "    img = img.detach().cpu().numpy()\n",
    "    img = img.transpose(1,2,0)\n",
    "    img = (img-img.min())/img.max()\n",
    "    img*=255\n",
    "    img = img.astype(np.uint8)\n",
    "    return img\n",
    "import matplotlib.pyplot as plt\n"
   ]
  },
  {
   "cell_type": "code",
   "execution_count": 5,
   "id": "ddb07c62-a2d7-465e-a18a-cce2ee856927",
   "metadata": {},
   "outputs": [
    {
     "data": {
      "text/plain": [
       "<matplotlib.image.AxesImage at 0x7f2e4fc42f10>"
      ]
     },
     "execution_count": 5,
     "metadata": {},
     "output_type": "execute_result"
    },
    {
     "data": {
      "image/png": "[encoded data removed]",
      "text/plain": [
       "<Figure size 432x288 with 1 Axes>"
      ]
     },
     "metadata": {
      "needs_background": "light"
     },
     "output_type": "display_data"
    }
   ],
   "source": [
    "img_b = show(t1)\n",
    "# img[img>1] = 255\n",
    "plt.imshow(img_b,'gray')"
   ]
  },
  {
   "cell_type": "code",
   "execution_count": 6,
   "id": "d7db4494-decd-4593-a5e7-faa4e18522df",
   "metadata": {},
   "outputs": [
    {
     "data": {
      "text/plain": [
       "<matplotlib.image.AxesImage at 0x7f2e39463760>"
      ]
     },
     "execution_count": 6,
     "metadata": {},
     "output_type": "execute_result"
    },
    {
     "data": {
      "image/png": "[encoded data removed]",
      "text/plain": [
       "<Figure size 432x288 with 1 Axes>"
      ]
     },
     "metadata": {
      "needs_background": "light"
     },
     "output_type": "display_data"
    }
   ],
   "source": [
    "img = show(r1)\n",
    "plt.imshow(img[:,:,0])"
   ]
  },
  {
   "cell_type": "code",
   "execution_count": null,
   "id": "4b607721-05b5-421d-b6bf-57f4cffada53",
   "metadata": {},
   "outputs": [],
   "source": []
  }
 ],
 "metadata": {
  "kernelspec": {
   "display_name": "Python 3 (ipykernel)",
   "language": "python",
   "name": "python3"
  },
  "language_info": {
   "codemirror_mode": {
    "name": "ipython",
    "version": 3
   },
   "file_extension": ".py",
   "mimetype": "text/x-python",
   "name": "python",
   "nbconvert_exporter": "python",
   "pygments_lexer": "ipython3",
   "version": "3.9.12"
  }
 },
 "nbformat": 4,
 "nbformat_minor": 5
}
