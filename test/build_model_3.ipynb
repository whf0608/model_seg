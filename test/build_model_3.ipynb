{
 "cells": [
  {
   "cell_type": "code",
   "execution_count": 2,
   "id": "958d0b45-086f-46aa-9da9-0dcb8fbaab19",
   "metadata": {},
   "outputs": [
    {
     "name": "stdout",
     "output_type": "stream",
     "text": [
      "RUNDIR: runs/log/80971\n",
      "[easydl] tensorflow not available!\n"
     ]
    }
   ],
   "source": [
    "from init import *\n",
    "import os\n",
    "import cv2\n",
    "import numpy as np\n",
    "import torch.nn.functional as F\n",
    "import matplotlib.pyplot as plt\n",
    "from  easydl import clear_output\n",
    "from torch import nn\n",
    "import torch\n",
    "from modules.operates.ops import conv3x3,conv1x1,residualBlock\n",
    "from modules.blocks.yolo_blocks import C3, Conv"
   ]
  },
  {
   "cell_type": "code",
   "execution_count": 3,
   "id": "566a6d1a-8f7c-4422-ba10-79e969febd9f",
   "metadata": {
    "tags": []
   },
   "outputs": [],
   "source": [
    "class Fusion2Backbone(nn.Module):\n",
    "    def __init__(self,c1,ns=[],ss=[],c_size=True):\n",
    "        super(Fusion2Backbone,self).__init__()\n",
    "        \n",
    "        self.seq = nn.Sequential()\n",
    "        self.seq1 = nn.Sequential()\n",
    "        self.seq2 = nn.Sequential()\n",
    "        self.cov_act_1 = Cov_Act(3,c1,3,1,1)\n",
    "        self.cov_act_2 = Cov_Act(3,c1,3,1,1)\n",
    "        \n",
    "        c=c1\n",
    "        for i,(n,s) in enumerate(zip(ns,ss)):\n",
    "            subseq = nn.Sequential()\n",
    "            for _ in range(n):\n",
    "                subseq.add_module('c3_'+str(i)+'_'+str(_),C3(c1,c,1))\n",
    "            \n",
    "            \n",
    "            if not c_size: c*=s\n",
    "            self.seq.add_module('subseq_'+str(i),subseq)\n",
    "            self.seq1.add_module('c1_'+str(i),Conv(c1,c,k=3,s=s,p=1))\n",
    "            c1=c\n",
    "            \n",
    "            self.seq2.add_module('c1_'+str(i),Conv(c1*2,c1,k=3,s=1,p=1))\n",
    "        self.cov_act1 = Cov_Act(c1,3,3,1,1)\n",
    "        self.cov_act2 = Cov_Act(c1,3,3,1,1)\n",
    "        \n",
    "    def forward(self,x1,x2):\n",
    "        if x2  is  None:\n",
    "            x2 = x1\n",
    "        x1 = self.cov_act_1(x1)\n",
    "        x2 = self.cov_act_2(x2)\n",
    "        for m,m1,m2 in zip(self.seq,self.seq1,self.seq2):\n",
    "            x1 = m(x1)\n",
    "            y1 = m1(x1)\n",
    "            \n",
    "            x2 = m(x2)\n",
    "            y2 = m1(x2)\n",
    "            x1 = torch.cat([y1*0.8,y2*0.2],1)\n",
    "            x2 = torch.cat([y2*0.8,y1*0.2],1)\n",
    "            \n",
    "            x1 = m2(x1)\n",
    "            x2 = m2(x2)\n",
    "        x1 = self.cov_act1(x1)\n",
    "        x2 = self.cov_act2(x2)\n",
    "        return x1,x2\n",
    "    \n",
    "class Cov_Act(nn.Module):\n",
    "    def __init__(self,c1,c2,k,s,p):\n",
    "        super(Cov_Act,self).__init__()\n",
    "        self.conv = nn.Conv2d(c1, c2, k, s, p, groups=1, bias=False)\n",
    "        # self.bn = nn.BatchNorm2d(c2,eps=0.001,momentum=0.03)\n",
    "        self.act = nn.SiLU()\n",
    "    def forward(self,x):\n",
    "        x = self.conv(x)\n",
    "        x = self.act(x)\n",
    "        return x"
   ]
  },
  {
   "cell_type": "code",
   "execution_count": null,
   "id": "d40a6d04-f59b-4a7d-9564-7cf492cf3b56",
   "metadata": {},
   "outputs": [],
   "source": [
    "device = 'cuda:5'\n",
    "epochs=500\n",
    "\n",
    "cfg['training']['batch_size']=1\n",
    "cfg0['training']['optimizer']['lr']=0.001\n",
    "fb = Fusion2Backbone(64,ns=[6,1,1,6,1,1],ss=[1,1,1,1,1,1])\n",
    "n_claess,train_loader, val_loder = get_dataloader(cfg)\n",
    "optimizer, scheduler = get_optimizer_scheduler(fb)\n",
    "\n",
    "fb = fb.train()\n",
    "fb=fb.to(device).half()\n",
    "\n",
    "\n",
    "for epoch  in range(epochs): \n",
    "    losses =[]\n",
    "    for images in train_loader:\n",
    "        optimizer.zero_grad()\n",
    "        t1 = images['image_mask'].to(device).half()\n",
    "        t2 = images['image_mask'].to(device).half()\n",
    "        t1_b = images['image'].to(device).half()\n",
    "        t2_b = images['image'].to(device).half()\n",
    "        \n",
    "        r1,r2 = fb(t1,t2)\n",
    "        loss = (torch.abs(r1-t1_b).double().sum()/r1.shape.numel() + torch.abs(r2-t2_b).double().sum()/r2.shape.numel())/1.0\n",
    "        loss.backward()\n",
    "        optimizer.step()\n",
    "        scheduler.step()\n",
    "        \n",
    "        losses.append(loss.detach().cpu().numpy())\n",
    "    print('epoch'+str(epoch)+' :', np.sum(losses)/len(losses))\n"
   ]
  },
  {
   "cell_type": "code",
   "execution_count": 5,
   "id": "59916466-a910-44be-b5d3-e780841b2705",
   "metadata": {},
   "outputs": [],
   "source": [
    "def show(t1_b):\n",
    "    img = t1_b[0]\n",
    "    img = img.detach().cpu().numpy()\n",
    "    img = img.transpose(1,2,0)\n",
    "    img = (img-img.min())/img.max()\n",
    "    img*=255\n",
    "    img = img.astype(np.uint8)\n",
    "    return img"
   ]
  },
  {
   "cell_type": "code",
   "execution_count": 30,
   "id": "25785fe1-598c-497a-b36e-a5aeef1809a7",
   "metadata": {},
   "outputs": [],
   "source": [
    "img = show(t1_b)\n",
    "# img = img[:,:,0]\n",
    "# img[img>1]=[255]"
   ]
  },
  {
   "cell_type": "code",
   "execution_count": 31,
   "id": "ffc9a14c-06be-4a53-8a79-46208fa94632",
   "metadata": {},
   "outputs": [
    {
     "data": {
      "text/plain": [
       "<matplotlib.image.AxesImage at 0x7f2e015ff7f0>"
      ]
     },
     "execution_count": 31,
     "metadata": {},
     "output_type": "execute_result"
    },
    {
     "data": {
      "image/png": "[encoded data removed]",
      "text/plain": [
       "<Figure size 432x288 with 1 Axes>"
      ]
     },
     "metadata": {
      "needs_background": "light"
     },
     "output_type": "display_data"
    }
   ],
   "source": [
    "plt.imshow(img,'gray')"
   ]
  },
  {
   "cell_type": "code",
   "execution_count": 17,
   "id": "ac0c0ae7-ed16-4276-8756-7cc8aee9a478",
   "metadata": {},
   "outputs": [
    {
     "data": {
      "text/plain": [
       "True"
      ]
     },
     "execution_count": 17,
     "metadata": {},
     "output_type": "execute_result"
    }
   ],
   "source": [
    "# img[img[:,:,0]>10] = [255,255,255]\n",
    "img = img.astype(np.uint8)\n",
    "cv2.imwrite('test.png',img)"
   ]
  }
 ],
 "metadata": {
  "kernelspec": {
   "display_name": "Python 3 (ipykernel)",
   "language": "python",
   "name": "python3"
  },
  "language_info": {
   "codemirror_mode": {
    "name": "ipython",
    "version": 3
   },
   "file_extension": ".py",
   "mimetype": "text/x-python",
   "name": "python",
   "nbconvert_exporter": "python",
   "pygments_lexer": "ipython3",
   "version": "3.9.12"
  }
 },
 "nbformat": 4,
 "nbformat_minor": 5
}
