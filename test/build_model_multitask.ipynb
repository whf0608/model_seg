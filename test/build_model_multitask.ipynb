{
 "cells": [
  {
   "cell_type": "code",
   "execution_count": 1,
   "id": "958d0b45-086f-46aa-9da9-0dcb8fbaab19",
   "metadata": {},
   "outputs": [
    {
     "name": "stdout",
     "output_type": "stream",
     "text": [
      "[easydl] tensorflow not available!\n"
     ]
    }
   ],
   "source": [
    "from init import *\n",
    "import os\n",
    "import cv2\n",
    "import numpy as np\n",
    "import matplotlib.pyplot as plt\n",
    "from easydl import clear_output\n",
    "from models_.FDD_model_multitask import UNet\n",
    "from lossers import dice_loss\n",
    "from torch import optim\n",
    "from torch import nn\n",
    "from tqdm import tqdm\n",
    "import torch.nn.functional as F"
   ]
  },
  {
   "cell_type": "code",
   "execution_count": 2,
   "id": "d40a6d04-f59b-4a7d-9564-7cf492cf3b56",
   "metadata": {},
   "outputs": [],
   "source": [
    "epochs=200\n",
    "device = 'cuda:3'\n",
    "cfg0['data']['path']=r'/home/wanghaifeng/project_work/datasets/changedetection_dataset/zaihai/imgs8'\n",
    "cfg0['training']['batch_size']=4\n",
    "model = UNet(3,3)\n",
    "n_claess,train_loader, val_loder = get_dataloader(cfg0)\n",
    "optimizer, scheduler = get_optimizer_scheduler(model)\n",
    "model = model.to(device).train()#.half()"
   ]
  },
  {
   "cell_type": "code",
   "execution_count": 8,
   "id": "a5760af2-b203-47f0-9bbf-04fe47999bd6",
   "metadata": {},
   "outputs": [
    {
     "name": "stderr",
     "output_type": "stream",
     "text": [
      "Epoch 1/200:  16%|█▌        | 16/100 [00:25<02:14,  1.60s/img, loss (batch)=1.39]\n"
     ]
    },
    {
     "ename": "KeyboardInterrupt",
     "evalue": "",
     "output_type": "error",
     "traceback": [
      "\u001b[0;31m---------------------------------------------------------------------------\u001b[0m",
      "\u001b[0;31mKeyboardInterrupt\u001b[0m                         Traceback (most recent call last)",
      "Input \u001b[0;32mIn [8]\u001b[0m, in \u001b[0;36m<cell line: 9>\u001b[0;34m()\u001b[0m\n\u001b[1;32m     28\u001b[0m grad_scaler\u001b[38;5;241m.\u001b[39mstep(optimizer)\n\u001b[1;32m     29\u001b[0m grad_scaler\u001b[38;5;241m.\u001b[39mupdate()\n\u001b[0;32m---> 30\u001b[0m losss\u001b[38;5;241m.\u001b[39mappend(\u001b[43mloss\u001b[49m\u001b[38;5;241;43m.\u001b[39;49m\u001b[43mitem\u001b[49m\u001b[43m(\u001b[49m\u001b[43m)\u001b[49m)\n\u001b[1;32m     31\u001b[0m pbar\u001b[38;5;241m.\u001b[39mupdate(t2\u001b[38;5;241m.\u001b[39mshape[\u001b[38;5;241m0\u001b[39m])\n\u001b[1;32m     32\u001b[0m pbar\u001b[38;5;241m.\u001b[39mset_postfix(\u001b[38;5;241m*\u001b[39m\u001b[38;5;241m*\u001b[39m{\u001b[38;5;124m'\u001b[39m\u001b[38;5;124mloss (batch)\u001b[39m\u001b[38;5;124m'\u001b[39m: loss\u001b[38;5;241m.\u001b[39mitem()})\n",
      "\u001b[0;31mKeyboardInterrupt\u001b[0m: "
     ]
    }
   ],
   "source": [
    "    learning_rate: float = 1e-5\n",
    "    amp = False\n",
    "    optimizer = optim.RMSprop(model.parameters(), lr=learning_rate, weight_decay=1e-8, momentum=0.9)\n",
    "    scheduler = optim.lr_scheduler.ReduceLROnPlateau(optimizer, 'max', patience=2)  # goal: maximize Dice score\n",
    "    grad_scaler = torch.cuda.amp.GradScaler(enabled=amp)\n",
    "    criterion = nn.MultiLabelSoftMarginLoss()\n",
    "\n",
    "\n",
    "    for epoch in range(1, epochs+1):\n",
    "        model.train()\n",
    "        epoch_loss = 0\n",
    "        with tqdm(total=100, desc=f'Epoch {epoch}/{epochs}', unit='img') as pbar:\n",
    "            losss=[]\n",
    "            for images in train_loader:\n",
    "                t2 = images['t2'].to(device)  # .half()\n",
    "                mask1 = images['mask2'].to(device,dtype=torch.long)#.half()\n",
    "                \n",
    "                \n",
    "                with torch.cuda.amp.autocast(enabled=amp):\n",
    "                    r1 = model(t2)\n",
    "                    loss = criterion(r1,mask1)\\\n",
    "                           + dice_loss(F.softmax(r1, dim=1).float(),\n",
    "                                       F.one_hot(mask1.squeeze(1), 3).permute(0, 3, 1, 2).float(),\n",
    "                                       multiclass=True)\\\n",
    "\n",
    "                optimizer.zero_grad(set_to_none=True)\n",
    "                grad_scaler.scale(loss).backward()\n",
    "                grad_scaler.step(optimizer)\n",
    "                grad_scaler.update()\n",
    "                losss.append(loss.item())\n",
    "                pbar.update(t2.shape[0])\n",
    "                pbar.set_postfix(**{'loss (batch)': loss.item()})\n",
    "            pbar.set_postfix(**{'loss (epoch)': sum(losss)/len(losss)})  \n",
    "            \n",
    "        "
   ]
  },
  {
   "cell_type": "code",
   "execution_count": null,
   "id": "3e838f5a-71aa-477f-8ae2-8372e1b0215f",
   "metadata": {},
   "outputs": [],
   "source": []
  },
  {
   "cell_type": "code",
   "execution_count": 25,
   "id": "d2100b39-3bce-4172-a0cb-ea0647e74a91",
   "metadata": {},
   "outputs": [],
   "source": [
    "from glob import glob\n",
    "import torch\n",
    "import cv2\n",
    "import numpy as np\n",
    "import torch.nn.functional as F\n",
    "from models_.unet_model1 import UNet\n",
    "from pathlib import Path\n",
    "\n",
    "def show_result(r1):\n",
    "    probs = F.softmax(r1, dim=1)\n",
    "    img1 = torch.argmax(probs,1)\n",
    "    img1 = img1[0].detach().cpu().numpy()\n",
    "    return img1\n",
    "\n",
    "def test(imgs_path,device,model=None,weights_path='test15.pt',save_path=None,num_limt=1,img_size=(640,640),):\n",
    "    for img_p in imgs_path[:num_limt]:\n",
    "        img = cv2.imread(img_p)\n",
    "        img = cv2.resize(img,img_size)\n",
    "        \n",
    "        mask2_p = img_p.replace('t2','mask2')\n",
    "        if Path(mask2_p).exists():\n",
    "            mask = cv2.imread(mask2_p)\n",
    "            mask = cv2.resize(mask,img_size)\n",
    "            \n",
    "        img = img.transpose(2,0,1)\n",
    "        img = np.array([img])\n",
    "        img = torch.from_numpy(img).to(device)\n",
    "        img = img/255\n",
    "        \n",
    "        if model is None:\n",
    "            model = torch.load(weights_path)\n",
    "            model = model.to(device).eval()\n",
    "\n",
    "        with torch.no_grad():\n",
    "            rs = model(img,show=save_path)\n",
    "        \n",
    "        # for i,r in enumerate(rs):\n",
    "        img = show_result(rs)\n",
    "    return img,mask\n",
    "\n",
    "\n",
    "device = 'cuda:4'\n",
    "imgs_path = glob(r'/home/wanghaifeng/project_work/datasets/changedetection_dataset/zaihai/imgs8/train/t2/*.png')\n",
    "\n",
    "model_name = 'model_unet_mask_epoch'\n",
    "\n"
   ]
  },
  {
   "cell_type": "code",
   "execution_count": 26,
   "id": "773cb8a6-3992-48db-b5b0-561c3ed095bc",
   "metadata": {},
   "outputs": [],
   "source": [
    "img,mask = test(imgs_path,device,model=model1,weights_path='weights/'+model_name+'.pt',save_path=None,img_size=(640,640),num_limt=1)"
   ]
  },
  {
   "cell_type": "code",
   "execution_count": 28,
   "id": "98122dc4-4b08-462a-acc9-d300aa046754",
   "metadata": {},
   "outputs": [
    {
     "data": {
      "text/plain": [
       "<matplotlib.image.AxesImage at 0x7f6034501160>"
      ]
     },
     "execution_count": 28,
     "metadata": {},
     "output_type": "execute_result"
    },
    {
     "data": {
      "image/png": "[encoded data removed]",
      "text/plain": [
       "<Figure size 432x288 with 1 Axes>"
      ]
     },
     "metadata": {
      "needs_background": "light"
     },
     "output_type": "display_data"
    }
   ],
   "source": [
    "plt.imshow(img)"
   ]
  },
  {
   "cell_type": "code",
   "execution_count": 29,
   "id": "01e35083-c6d6-4c0c-99db-92b2a6e63c66",
   "metadata": {},
   "outputs": [
    {
     "data": {
      "text/plain": [
       "<matplotlib.image.AxesImage at 0x7f60343601c0>"
      ]
     },
     "execution_count": 29,
     "metadata": {},
     "output_type": "execute_result"
    },
    {
     "data": {
      "image/png": "[encoded data removed]",
      "text/plain": [
       "<Figure size 432x288 with 1 Axes>"
      ]
     },
     "metadata": {
      "needs_background": "light"
     },
     "output_type": "display_data"
    }
   ],
   "source": [
    "plt.imshow(mask)"
   ]
  },
  {
   "cell_type": "code",
   "execution_count": null,
   "id": "780255c5-9bd0-48f5-8c33-bb9f064fc225",
   "metadata": {},
   "outputs": [],
   "source": []
  }
 ],
 "metadata": {
  "kernelspec": {
   "display_name": "Python 3 (ipykernel)",
   "language": "python",
   "name": "python3"
  },
  "language_info": {
   "codemirror_mode": {
    "name": "ipython",
    "version": 3
   },
   "file_extension": ".py",
   "mimetype": "text/x-python",
   "name": "python",
   "nbconvert_exporter": "python",
   "pygments_lexer": "ipython3",
   "version": "3.9.12"
  }
 },
 "nbformat": 4,
 "nbformat_minor": 5
}
