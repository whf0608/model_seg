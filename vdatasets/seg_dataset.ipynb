{
 "cells": [
  {
   "cell_type": "code",
   "execution_count": 1,
   "id": "258a1f7b-29ea-4bbf-8e73-0f0aa63433e5",
   "metadata": {},
   "outputs": [],
   "source": [
    "from seg_dataset import SegDataset"
   ]
  },
  {
   "cell_type": "code",
   "execution_count": 2,
   "id": "3c6aef94-bef6-41f5-9081-0a22c77cb8b0",
   "metadata": {},
   "outputs": [
    {
     "name": "stdout",
     "output_type": "stream",
     "text": [
      "----------------init dataset---------------\n",
      "loading dataset: /shared/wanghaifeng/datasets/cache/yunnan use subdir: ['image', 'label'] num:  1414\n"
     ]
    }
   ],
   "source": [
    "dataset = SegDataset(dataset_path='/shared/wanghaifeng/datasets/cache/yunnan',\n",
    "                 img_size=640,\n",
    "                 sub_dir=['image','label'],\n",
    "                 limt_num=None,\n",
    "                 data_type='train'\n",
    "                 )"
   ]
  },
  {
   "cell_type": "code",
   "execution_count": 6,
   "id": "b354fdda-123b-4238-bd9e-07f0e17b360b",
   "metadata": {},
   "outputs": [],
   "source": [
    "trainloader = data.DataLoader(dataset, batch_size=1,num_workers=1,shuffle=True,drop_last=True)"
   ]
  },
  {
   "cell_type": "code",
   "execution_count": 5,
   "id": "f7a7545a-9d72-4b71-9fbe-b8a83a34c16e",
   "metadata": {},
   "outputs": [],
   "source": [
    "import  matplotlib.pyplot as plt\n",
    "from torch.utils import data"
   ]
  },
  {
   "cell_type": "code",
   "execution_count": 8,
   "id": "84ccd040-c6f1-47f1-8870-4e2d9afaab9a",
   "metadata": {},
   "outputs": [],
   "source": [
    "for data in trainloader:\n",
    "    break"
   ]
  },
  {
   "cell_type": "code",
   "execution_count": 9,
   "id": "8ad9fff7-cfde-452b-81c5-5e4d42093b24",
   "metadata": {},
   "outputs": [
    {
     "data": {
      "text/plain": [
       "{'image': tensor([[[[-0.6794, -0.6623, -0.6452,  ..., -0.4568, -0.5082, -0.5424],\n",
       "           [-0.6794, -0.6281, -0.5596,  ..., -0.6109, -0.6281, -0.6452],\n",
       "           [-0.6452, -0.5767, -0.4739,  ..., -0.4226, -0.3883, -0.3541],\n",
       "           ...,\n",
       "           [-0.2513, -0.2171, -0.1828,  ..., -0.1999, -0.1314, -0.0801],\n",
       "           [-0.2342, -0.1999, -0.1828,  ...,  0.2453,  0.2967,  0.3309],\n",
       "           [-0.2684, -0.2513, -0.2171,  ...,  0.1939,  0.2282,  0.2624]],\n",
       " \n",
       "          [[-0.3550, -0.3375, -0.3200,  ..., -0.3375, -0.3901, -0.4251],\n",
       "           [-0.3550, -0.3025, -0.2325,  ..., -0.4951, -0.5126, -0.5301],\n",
       "           [-0.3200, -0.2500, -0.1450,  ..., -0.3025, -0.2675, -0.2325],\n",
       "           ...,\n",
       "           [-0.3200, -0.2850, -0.2325,  ..., -0.0224,  0.0476,  0.1001],\n",
       "           [-0.3025, -0.2675, -0.2325,  ...,  0.4503,  0.5028,  0.5378],\n",
       "           [-0.3375, -0.3200, -0.2675,  ...,  0.3978,  0.4328,  0.4678]],\n",
       " \n",
       "          [[-0.0964, -0.0790, -0.0615,  ..., -0.2184, -0.2707, -0.3055],\n",
       "           [-0.0964, -0.0441,  0.0256,  ..., -0.3753, -0.3927, -0.4101],\n",
       "           [-0.0615,  0.0082,  0.1128,  ..., -0.1835, -0.1487, -0.1138],\n",
       "           ...,\n",
       "           [-0.0615, -0.0267, -0.0092,  ...,  0.3393,  0.4091,  0.4614],\n",
       "           [-0.0441, -0.0092, -0.0092,  ...,  0.7576,  0.8099,  0.8448],\n",
       "           [-0.0790, -0.0615, -0.0441,  ...,  0.7054,  0.7402,  0.7751]]]]),\n",
       " 'label': tensor([[[[0, 0, 0],\n",
       "           [0, 0, 0],\n",
       "           [0, 0, 0],\n",
       "           ...,\n",
       "           [0, 0, 0],\n",
       "           [0, 0, 0],\n",
       "           [0, 0, 0]],\n",
       " \n",
       "          [[0, 0, 0],\n",
       "           [0, 0, 0],\n",
       "           [0, 0, 0],\n",
       "           ...,\n",
       "           [0, 0, 0],\n",
       "           [0, 0, 0],\n",
       "           [0, 0, 0]],\n",
       " \n",
       "          [[0, 0, 0],\n",
       "           [0, 0, 0],\n",
       "           [0, 0, 0],\n",
       "           ...,\n",
       "           [0, 0, 0],\n",
       "           [0, 0, 0],\n",
       "           [0, 0, 0]],\n",
       " \n",
       "          ...,\n",
       " \n",
       "          [[0, 0, 0],\n",
       "           [0, 0, 0],\n",
       "           [0, 0, 0],\n",
       "           ...,\n",
       "           [0, 0, 0],\n",
       "           [0, 0, 0],\n",
       "           [0, 0, 0]],\n",
       " \n",
       "          [[0, 0, 0],\n",
       "           [0, 0, 0],\n",
       "           [0, 0, 0],\n",
       "           ...,\n",
       "           [0, 0, 0],\n",
       "           [0, 0, 0],\n",
       "           [0, 0, 0]],\n",
       " \n",
       "          [[0, 0, 0],\n",
       "           [0, 0, 0],\n",
       "           [0, 0, 0],\n",
       "           ...,\n",
       "           [0, 0, 0],\n",
       "           [0, 0, 0],\n",
       "           [0, 0, 0]]]], dtype=torch.uint8)}"
      ]
     },
     "execution_count": 9,
     "metadata": {},
     "output_type": "execute_result"
    }
   ],
   "source": [
    "data"
   ]
  },
  {
   "cell_type": "code",
   "execution_count": null,
   "id": "bef85079-2814-48c6-8486-19809ae486dc",
   "metadata": {},
   "outputs": [],
   "source": []
  }
 ],
 "metadata": {
  "kernelspec": {
   "display_name": "Python 3 (ipykernel)",
   "language": "python",
   "name": "python3"
  },
  "language_info": {
   "codemirror_mode": {
    "name": "ipython",
    "version": 3
   },
   "file_extension": ".py",
   "mimetype": "text/x-python",
   "name": "python",
   "nbconvert_exporter": "python",
   "pygments_lexer": "ipython3",
   "version": "3.9.0"
  }
 },
 "nbformat": 4,
 "nbformat_minor": 5
}
