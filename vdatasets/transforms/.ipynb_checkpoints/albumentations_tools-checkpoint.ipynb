{
 "cells": [
  {
   "cell_type": "code",
   "execution_count": 6,
   "id": "9d4b326d-c164-4cb2-a0a1-5d94edf93453",
   "metadata": {},
   "outputs": [],
   "source": [
    "import cv2\n",
    "import matplotlib.pyplot as ply"
   ]
  },
  {
   "cell_type": "code",
   "execution_count": 15,
   "id": "e649cad5-8e12-4b73-bae3-9fc9442ba906",
   "metadata": {},
   "outputs": [],
   "source": [
    "from albumentations import Compose\n",
    "from albumentations import (AdvancedBlur,\n",
    "                            Blur,\n",
    "                            CLAHE,ChannelDropout,ChannelDropout,ChannelShuffle,#ColorJitter,\n",
    "                            Downscale,\n",
    "                            Emboss,Equalize,\n",
    "                            FDA,FancyPCA,FromFloat,\n",
    "                            GaussNoise,GaussianBlur,GlassBlur,GridDistortion,\n",
    "                            HistogramMatching,HueSaturationValue,HorizontalFlip,\n",
    "                            ISONoise,ImageCompression,InvertImg,IAAPerspective,#IAAAdditiveGaussianNoise,\n",
    "                            IAASharpen, IAAEmboss,IAAPiecewiseAffine,\n",
    "                            MedianBlur,MotionBlur,MultiplicativeNoise,Normalize,\n",
    "                            PixelDistributionAdaptation,Posterize,RGBShift,RandomBrightnessContrast,\n",
    "                            RandomFog,RandomGamma,RandomRain,RandomShadow,RandomSnow,RandomRotate90,\n",
    "                            RandomSunFlare,RandomToneCurve,\n",
    "                            Sharpen,Solarize,Superpixels,ShiftScaleRotate,\n",
    "                            TemplateTransform,ToFloat,ToGray,ToSepia,Transpose,\n",
    "                            UnsharpMask,\n",
    "                            OpticalDistortion, OneOf,\n",
    "                            Flip\n",
    "                            )"
   ]
  },
  {
   "cell_type": "code",
   "execution_count": 16,
   "id": "8d75cc13-165c-415a-bec6-9fe6dd7ce186",
   "metadata": {},
   "outputs": [],
   "source": []
  },
  {
   "cell_type": "code",
   "execution_count": 24,
   "id": "ccd97117-bc46-4a08-9445-63dcd2dd08f7",
   "metadata": {},
   "outputs": [],
   "source": [
    "import numpy as np\n",
    "\n",
    "def strong_aug(p=0.5):\n",
    "    return Compose([\n",
    "        RandomRotate90(),\n",
    "        Flip(),\n",
    "        Transpose(),\n",
    "        OneOf([\n",
    "            #IAAAdditiveGaussianNoise(),\n",
    "            GaussNoise(),\n",
    "        ], p=0.2),\n",
    "        OneOf([\n",
    "            MotionBlur(p=0.2),\n",
    "            MedianBlur(blur_limit=3, p=0.1),\n",
    "            Blur(blur_limit=3, p=0.1),\n",
    "        ], p=0.2),\n",
    "        ShiftScaleRotate(shift_limit=0.0625, scale_limit=0.2, rotate_limit=45, p=0.2),\n",
    "        OneOf([\n",
    "            OpticalDistortion(p=0.3),\n",
    "            GridDistortion(p=0.1),\n",
    "            IAAPiecewiseAffine(p=0.3),\n",
    "        ], p=0.2),\n",
    "        OneOf([\n",
    "            CLAHE(clip_limit=2),\n",
    "            IAASharpen(),\n",
    "            IAAEmboss(),\n",
    "            RandomBrightnessContrast(),\n",
    "        ], p=0.3),\n",
    "        HueSaturationValue(p=0.3),\n",
    "    ], p=p)\n",
    "\n",
    "image = np.ones((300, 300, 3), dtype=np.uint8)\n",
    "mask = np.ones((300, 300), dtype=np.uint8)\n",
    "mask1 = np.ones((300, 300), dtype=np.uint8)\n",
    "whatever_data = \"my name\"\n",
    "augmentation = strong_aug(p=0.9)\n",
    "data = {\"image\": image, \"masks\": [mask,mask1],\"mask1\": mask1, \"whatever_data\": whatever_data, \"additional\": \"hello\"}\n",
    "augmented = augmentation(**data)\n",
    "image, mask, mask1,whatever_data, additional = augmented[\"image\"], augmented[\"masks\"], augmented[\"mask1\"],augmented[\"whatever_data\"], augmented[\"additional\"]"
   ]
  },
  {
   "cell_type": "code",
   "execution_count": null,
   "id": "b60b536c-3cc8-4aa8-a5c5-001dc63996ff",
   "metadata": {},
   "outputs": [],
   "source": []
  },
  {
   "cell_type": "code",
   "execution_count": 25,
   "id": "fd06b6ee-6d8b-487d-80e3-1d7bea9ba535",
   "metadata": {},
   "outputs": [
    {
     "ename": "AttributeError",
     "evalue": "'list' object has no attribute 'shape'",
     "output_type": "error",
     "traceback": [
      "\u001b[0;31m---------------------------------------------------------------------------\u001b[0m",
      "\u001b[0;31mAttributeError\u001b[0m                            Traceback (most recent call last)",
      "Input \u001b[0;32mIn [25]\u001b[0m, in \u001b[0;36m<cell line: 1>\u001b[0;34m()\u001b[0m\n\u001b[0;32m----> 1\u001b[0m \u001b[43mmask\u001b[49m\u001b[38;5;241;43m.\u001b[39;49m\u001b[43mshape\u001b[49m\n",
      "\u001b[0;31mAttributeError\u001b[0m: 'list' object has no attribute 'shape'"
     ]
    }
   ],
   "source": [
    "mask.shape"
   ]
  },
  {
   "cell_type": "code",
   "execution_count": 22,
   "id": "c17640a9-3644-4f72-98f3-4af3e7851ea4",
   "metadata": {},
   "outputs": [
    {
     "data": {
      "text/plain": [
       "(300, 300)"
      ]
     },
     "execution_count": 22,
     "metadata": {},
     "output_type": "execute_result"
    }
   ],
   "source": [
    "mask1.shape"
   ]
  },
  {
   "cell_type": "code",
   "execution_count": null,
   "id": "973c2535-2ebc-4261-b569-422499592ab9",
   "metadata": {},
   "outputs": [],
   "source": []
  }
 ],
 "metadata": {
  "kernelspec": {
   "display_name": "Python 3 (ipykernel)",
   "language": "python",
   "name": "python3"
  },
  "language_info": {
   "codemirror_mode": {
    "name": "ipython",
    "version": 3
   },
   "file_extension": ".py",
   "mimetype": "text/x-python",
   "name": "python",
   "nbconvert_exporter": "python",
   "pygments_lexer": "ipython3",
   "version": "3.9.17"
  }
 },
 "nbformat": 4,
 "nbformat_minor": 5
}
