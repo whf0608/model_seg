{
 "cells": [
  {
   "cell_type": "code",
   "execution_count": 2,
   "id": "5061e7b6-1721-42fd-8179-edae51ba86db",
   "metadata": {},
   "outputs": [],
   "source": [
    "import cv2\n",
    "import numpy as  np\n",
    "import matplotlib.pyplot as  plt\n",
    "import random\n",
    "from  glob import  glob\n",
    "import os\n",
    "import cv2\n",
    "import random\n",
    "from torch import optim\n",
    "from tqdm import tqdm\n",
    "from torch.utils.data import Dataset\n",
    "import torch\n",
    "from scipy.spatial import ConvexHull, convex_hull_plot_2d"
   ]
  },
  {
   "cell_type": "code",
   "execution_count": 101,
   "id": "974adcc7-30f4-40e4-a203-a5734934a928",
   "metadata": {},
   "outputs": [],
   "source": [
    "class Generate_Img():\n",
    "    def __init__(self,obj_n=1,img_s=640,angle_rota=(-45,45)):\n",
    "        self.obj_n = obj_n\n",
    "        self.img_s = img_s\n",
    "        self.angle_rota = angle_rota\n",
    "    \n",
    "    \n",
    "    def draw_rota_img(self):\n",
    "        obj_n=self.obj_n \n",
    "        img_s=self.img_s\n",
    "        angle_rota=(-45,45)\n",
    "    \n",
    "        img = np.full((img_s,img_s,3), 255)\n",
    "\n",
    "        rcc = random_class_color(nc=obj_n)\n",
    "        \n",
    "        \n",
    "        i,color = rcc.rand_c_c()\n",
    "        img,x,y,w,h = draw_box(img,color)\n",
    "\n",
    "        img_rota,angle_r = ImageRotate(img,center = (x+w/2,y+h/2),angle = angle_rota, scale = 1)\n",
    "        labels = [x/img_s,y/img_s,w/img_s,h/img_s]#,i,angle_rota/180])\n",
    "        ni=np.zeros(10)\n",
    "        ni[i]=1.0\n",
    "        labels.extend(ni)\n",
    "        nr=np.zeros(10)\n",
    "        nr[int((angle_rota[1]+angle_r)/10)]=1.0\n",
    "        labels.extend(nr)\n",
    "        labels.append(((angle_rota[1]+angle_r)%10)*0.1)\n",
    "\n",
    "        return img,img_rota,np.array([labels])\n",
    "    \n",
    "    def draw_img(self,num=5,img_s=1000,n=5):\n",
    "        obj_n=self.obj_n \n",
    "        \n",
    "        img = np.full((img_s,img_s,3), 255)\n",
    "        img = np.asarray(img,dtype=np.uint8)\n",
    "        img_mask = img.copy()\n",
    "        \n",
    "        rcc = random_class_color(nc=obj_n)\n",
    "        \n",
    "        for _ in range(n):\n",
    "            i,color = rcc.rand_c_c()\n",
    "            \n",
    "            for _ in range(num):\n",
    "                img_w,img_h = img.shape[:2]\n",
    "                x0,x1,y0,y1 = get_box(img_h,img_w)\n",
    "\n",
    "                points = get_polygon(x0,x1,y0,y1,n=20)\n",
    "                img,points = draw_ploygon(img,points,scale=0.2,color=color,s=3)\n",
    "                img_mask = cv2.fillPoly(img_mask, [points], color)\n",
    "\n",
    "        return img,img_mask\n",
    "    \n",
    "    def draw_box_img(self,nc=1,n=10):\n",
    "        rcc=random_class_color(nc=1)\n",
    "\n",
    "        r_img,f_img,o_r_img,o_f_img,boxs_xywh,boxs_xy4,boxs_rota=draw_angl_box(n=n,img_h=2000,img_w=2000,ponits=4,xywh=False,xy4=False,scale=0.5,rota=False,rcc=rcc)\n",
    "        return r_img,f_img"
   ]
  },
  {
   "cell_type": "code",
   "execution_count": 65,
   "id": "9652f19c-4ca1-436d-87b7-fc5f165945b4",
   "metadata": {},
   "outputs": [],
   "source": [
    "gi = Generate_Img()\n",
    "img,mask,l = gi.draw_box_img"
   ]
  },
  {
   "cell_type": "code",
   "execution_count": 67,
   "id": "49023426-7421-45df-92d1-0ca06f8571ab",
   "metadata": {},
   "outputs": [
    {
     "data": {
      "text/plain": [
       "<matplotlib.image.AxesImage at 0x7f5f6c5930a0>"
      ]
     },
     "execution_count": 67,
     "metadata": {},
     "output_type": "execute_result"
    },
    {
     "data": {
      "image/png": "[encoded data removed]",
      "text/plain": [
       "<Figure size 432x288 with 1 Axes>"
      ]
     },
     "metadata": {
      "needs_background": "light"
     },
     "output_type": "display_data"
    }
   ],
   "source": [
    "plt.imshow(mask)"
   ]
  },
  {
   "cell_type": "code",
   "execution_count": 88,
   "id": "1dae48c6-70b0-49d6-8407-224244805c3a",
   "metadata": {
    "tags": []
   },
   "outputs": [],
   "source": [
    "def draw_box(img,color):\n",
    "    img_w,img_h = img.shape[:2]\n",
    "    \n",
    "    img = np.asarray(img,dtype=np.uint8)\n",
    "\n",
    "    x,y=np.random.randint(img_w/20,img_w/2,2)\n",
    "    w,h=np.random.randint(img_h/20,img_h/2,2)\n",
    "    img = cv2.rectangle(img, (x,y), (x+w,y+h),color, -1)\n",
    "    \n",
    "    return img,x,y,w,h\n",
    "\n",
    "class random_class_color():\n",
    "    def __init__(self,nc=10,prob_index=[0.2,0.3,0.4,0.45,0.5,0.6,0.7,0.8,0.9,1]):\n",
    "        self.nc=nc\n",
    "        self.prob_index=prob_index\n",
    "        self.colors=[[random.randint(0, 255) for _ in range(3)] for __ in range(0,nc)]\n",
    "    def rand_c_c(self):\n",
    "        c = np.random.random(1)\n",
    "        for i, pi in enumerate(self.prob_index):\n",
    "            if pi > c:\n",
    "                return i,self.colors[i%self.nc]\n",
    "        i=random.randint(0,self.nc)\n",
    "        return i,self.colors[i]\n",
    "    \n",
    "# 定义旋转函数\n",
    "def ImageRotate(image,center = (150,150),angle =(-180, 180), scale = 1):\n",
    "    height, width = image.shape[:2]    # 输入(H,W,C)，取 H，W 的值\n",
    "    # center = (width / 2, height / 2)   # 绕图片中心进行旋转\n",
    "    # # 绕图片中心进行旋转\n",
    "    angle = random.randint(angle[0],angle[1])  # 旋转方向取（-180，180）中的随机整数值，负为逆时针，正为顺势针\n",
    "    # scale = 0.8                        # 将图像缩放为80%\n",
    "#     if angle==0:\n",
    "#         angle = random.randint(angle[1]/2,angle[1])\n",
    "    # 获得旋转矩阵\n",
    "    M = cv2.getRotationMatrix2D(center, angle, scale)\n",
    "    # 进行仿射变换，边界填充为255，即白色，默认为0，即黑色\n",
    "    image_rotation = cv2.warpAffine(src=image, M=M, dsize=(height, width), borderValue=(255, 255, 255))\n",
    " \n",
    "    return image_rotation,angle\n",
    "\n",
    "def generate_mask_boundary(img,color):    \n",
    "    \n",
    "    img_mask = img.copy()\n",
    "\n",
    "    img_w,img_h = img.shape[:2]\n",
    "    img = np.asarray(img,dtype=np.uint8)\n",
    "    img_mask = np.asarray(img_mask,dtype=np.uint8)\n",
    "\n",
    "    x,y=np.random.randint(img_w/20,img_w/2,2)\n",
    "    w,h=np.random.randint(img_h/20,img_h/2,2)\n",
    "\n",
    "    img = cv2.rectangle(img, (x,y), (x+w,y+h),color, 2)\n",
    "\n",
    "    img_mask = cv2.rectangle(img_mask, (x,y), (x+w,y+h),color, -1)\n",
    "    \n",
    "    return img,img_mask"
   ]
  },
  {
   "cell_type": "code",
   "execution_count": 42,
   "id": "cdb96dfb-3965-4a94-bf05-d042c518ce80",
   "metadata": {},
   "outputs": [],
   "source": [
    "def get_box(img_h,img_w,scale=0.2):      \n",
    "    \n",
    "    a = []\n",
    "    for i in range(4):\n",
    "        if i == 0:\n",
    "            h = img_h\n",
    "            w = img_w\n",
    "            y0, x0 = int(np.random.random(1) * h), int(np.random.random(1) * w)\n",
    "            a.append([y0, x0])\n",
    "        else:\n",
    "            h = img_h *scale\n",
    "            w = img_w *scale\n",
    "            a.append([y0 + int((np.random.random(1) - 0.5) * h), x0 + int((np.random.random(1) - 0.5) * w)])\n",
    "\n",
    "    cnt = np.array(a)\n",
    "    # rect = cv2.minAreaRect(cnt)  # 得到最小外接矩形的（中心(x,y), (宽,高), 旋转角度）\n",
    "    # box = np.int0(cv2.boxPoints(rect))  # 通过box会出矩形框\n",
    "            \n",
    "    x0,x1 = cnt[:,0].min(),cnt[:,0].max()\n",
    "    y0,y1 = cnt[:,1].min(),cnt[:,1].max()\n",
    "    return x0,x1,y0,y1\n",
    "\n",
    "def get_polygon(x0,x1,y0,y1,n=20):\n",
    "    a=[]\n",
    "    h = y1-y0\n",
    "    w = x1-x0\n",
    "    for _  in range(n):\n",
    "        y_, x_ = int(np.random.random(1) * h+y0), int(np.random.random(1) * w+x0)\n",
    "        a.append([y_, x_])\n",
    "\n",
    "    points = np.array(a)\n",
    "    \n",
    "    return points\n",
    "\n",
    "def draw_ploygon(img,points,scale=0.2,color=None,s=2):\n",
    "    # from scipy.spatial import ConvexHull, convex_hull_plot_2d\n",
    "    # # points = np.random.rand(30, 2)   # 30 random points in 2-D\n",
    "    # hull = ConvexHull(points)\n",
    "\n",
    "    hull = cv2.convexHull(points)\n",
    "\n",
    "    length = len(hull)\n",
    "    points = []\n",
    "    for i in range(len(hull)):\n",
    "        cv2.line(img, tuple(hull[i][0]), tuple(hull[(i+1)%length][0]),color, s)\n",
    "        points.append(hull[i][0])\n",
    "    points =  np.array(points)\n",
    "    return img, points"
   ]
  },
  {
   "cell_type": "code",
   "execution_count": 61,
   "id": "5490dd48-0b25-49f8-9f69-d1d648d9b419",
   "metadata": {},
   "outputs": [],
   "source": [
    "img = np.zeros((640,640,3))\n",
    "color = (255,255,255)\n",
    "\n",
    "img = np.asarray(img,dtype=np.uint8)\n",
    "\n",
    "for _ in range(5):\n",
    "    img_w,img_h = img.shape[:2]\n",
    "    x0,x1,y0,y1 = get_box(img_h,img_w)\n",
    "\n",
    "    points = get_polygon(x0,x1,y0,y1,n=20)\n",
    "\n",
    "    img, points = draw_ploygon(img,points,color=color,scale=0.2)\n"
   ]
  },
  {
   "cell_type": "code",
   "execution_count": 62,
   "id": "6e259ea9-c600-42d2-8a1e-81c2a9b75267",
   "metadata": {},
   "outputs": [
    {
     "data": {
      "text/plain": [
       "<matplotlib.image.AxesImage at 0x7f5f6c24e9a0>"
      ]
     },
     "execution_count": 62,
     "metadata": {},
     "output_type": "execute_result"
    },
    {
     "data": {
      "image/png": "[encoded data removed]",
      "text/plain": [
       "<Figure size 432x288 with 1 Axes>"
      ]
     },
     "metadata": {
      "needs_background": "light"
     },
     "output_type": "display_data"
    }
   ],
   "source": [
    "plt.imshow(img)"
   ]
  },
  {
   "cell_type": "code",
   "execution_count": 2,
   "id": "08fde562-eab7-4629-b341-243bcad64e33",
   "metadata": {},
   "outputs": [],
   "source": [
    "from generate_img import GenerateDataset"
   ]
  },
  {
   "cell_type": "code",
   "execution_count": 3,
   "id": "21df6ca7-a315-46d7-b64f-077c98a0107c",
   "metadata": {},
   "outputs": [],
   "source": [
    "generatedataset = GenerateDataset(obj_n=5, img_s=640, cn=5, n=5)"
   ]
  },
  {
   "cell_type": "code",
   "execution_count": 6,
   "id": "1c85df63-3ee8-4d04-9703-4de987e6ff83",
   "metadata": {},
   "outputs": [],
   "source": [
    "img,img_mask,points = generatedataset.__getitem__(0)"
   ]
  },
  {
   "cell_type": "code",
   "execution_count": 89,
   "id": "c9266e50-f6e9-4581-9c63-eecdfb9b60b5",
   "metadata": {},
   "outputs": [],
   "source": [
    "def draw_angl_box(n=5,ponits=4,img_h=1000,img_w=1000,xywh=True,xy4=False,rota=False,scale=0.2,rcc=None):\n",
    "    img=np.full((img_h,img_w,3),255,dtype=np.uint8)\n",
    "    result2=img.copy()\n",
    "    result3=img.copy()\n",
    "    result4=img.copy()\n",
    "    \n",
    "    boxs_xywh=[]\n",
    "    boxs_xy4=[]\n",
    "    boxs_rota=[]\n",
    "    for _ in range(n):\n",
    "        a=[]\n",
    "        for i in  range(ponits):\n",
    "            if i==0: \n",
    "                h=img_h\n",
    "                w=img_w\n",
    "                y0,x0=int(np.random.random(1)*h),int(np.random.random(1)*w)\n",
    "                a.append([y0,x0])\n",
    "            else:\n",
    "                h=img_h*scale\n",
    "                w=img_w*scale\n",
    "                a.append([y0+int((np.random.random(1)-0.5)*h),x0+int((np.random.random(1)-0.5)*w)])\n",
    "        \n",
    "        cnt = np.array(a)\n",
    "\n",
    "        rect = cv2.minAreaRect(cnt) # 得到最小外接矩形的（中心(x,y), (宽,高), 旋转角度）\n",
    "        box = np.int0(cv2.boxPoints(rect)) #通过box会出矩形框\n",
    "\n",
    "        cindex,color=rcc.rand_c_c()\n",
    "\n",
    "        result3=cv2.polylines(result3, [cnt],isClosed=True,color=color,thickness=5)\n",
    "        result4=cv2.fillPoly(result4,[cnt],color)\n",
    "        \n",
    "        result1=cv2.polylines(img, [box],isClosed=True,color=color,thickness=5)\n",
    "        result2=cv2.fillPoly(result2,[box],color)\n",
    "\n",
    "        box=np.array(box)\n",
    "        box[box<0]=0\n",
    "        if img_w==img_h:box[box>img_h]=img_h\n",
    "        else:\n",
    "            print(\"w!=h\")\n",
    "            \n",
    "        if xy4:\n",
    "            box_xy=[cindex]\n",
    "            for x,y in box:box_xy.extend([x,y])\n",
    "            \n",
    "            boxs_xy4.append(box_xy)\n",
    "            \n",
    "        if xywh:\n",
    "            x=box[:,1]\n",
    "            y=box[:,0]\n",
    "            x0=x.min()\n",
    "            y0=y.min()\n",
    "            x1=x.max()\n",
    "            y1=y.max()\n",
    "            \n",
    "            box_xywh=[cindex,(y0+y1)/2.0,(x0+x1)/2.0,y1-y0,x1-x0]\n",
    "            boxs_xywh.append(box_xywh)\n",
    "        if rota:\n",
    "            x0,y0,w,h,rotaing=rect[0][0],rect[0][1],rect[1][0],rect[1][1],rect[2]\n",
    "            x0-=w/2\n",
    "            y0-=h/2\n",
    "            x1=x0+w\n",
    "            y1=y0+h\n",
    "            if x0<0:x0=0\n",
    "            if y0<0:y0=0\n",
    "            if x1>img_w:x1=img_w\n",
    "            if y1>img_h:y1=img_h\n",
    "            boxs_rota.append([cindex,(x0+x1)/2,(y0+y1)/2,x1-x0,y1-y0,rotaing])\n",
    "            \n",
    "    return result1,result2,result3,result4,np.array(boxs_xywh),np.array(boxs_xy4),np.array(boxs_rota)\n"
   ]
  },
  {
   "cell_type": "code",
   "execution_count": 98,
   "id": "4c3df950-f7bb-4901-8511-a78a7f102847",
   "metadata": {},
   "outputs": [],
   "source": []
  },
  {
   "cell_type": "code",
   "execution_count": 100,
   "id": "a172e7d7-1287-4090-a245-52a847c6af24",
   "metadata": {},
   "outputs": [
    {
     "data": {
      "text/plain": [
       "<matplotlib.image.AxesImage at 0x7f5f403d79a0>"
      ]
     },
     "execution_count": 100,
     "metadata": {},
     "output_type": "execute_result"
    },
    {
     "data": {
      "image/png": "[encoded data removed]",
      "text/plain": [
       "<Figure size 432x288 with 1 Axes>"
      ]
     },
     "metadata": {
      "needs_background": "light"
     },
     "output_type": "display_data"
    }
   ],
   "source": [
    "plt.imshow(r_img)"
   ]
  },
  {
   "cell_type": "code",
   "execution_count": null,
   "id": "cda2c630-edfb-4b44-af4e-72677d3660d0",
   "metadata": {},
   "outputs": [],
   "source": []
  }
 ],
 "metadata": {
  "kernelspec": {
   "display_name": "Python 3 (ipykernel)",
   "language": "python",
   "name": "python3"
  },
  "language_info": {
   "codemirror_mode": {
    "name": "ipython",
    "version": 3
   },
   "file_extension": ".py",
   "mimetype": "text/x-python",
   "name": "python",
   "nbconvert_exporter": "python",
   "pygments_lexer": "ipython3",
   "version": "3.9.12"
  }
 },
 "nbformat": 4,
 "nbformat_minor": 5
}
