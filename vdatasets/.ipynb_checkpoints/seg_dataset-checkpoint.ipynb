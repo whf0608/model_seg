{
 "cells": [
  {
   "cell_type": "code",
   "execution_count": 1,
   "id": "d0151640-6d26-4efe-ab09-ddbf6a7d7433",
   "metadata": {},
   "outputs": [],
   "source": [
    "from glob import glob \n",
    "import cv2\n",
    "import matplotlib.pyplot as plt\n",
    "import  numpy as  np\n",
    "import os.path as osp\n",
    "from pathlib import Path\n",
    "from torch.utils.data import Dataset\n",
    "import torch\n",
    "import json"
   ]
  },
  {
   "cell_type": "code",
   "execution_count": 2,
   "id": "a07295e6-69b6-4c4d-9fdb-62e4320beb34",
   "metadata": {},
   "outputs": [],
   "source": [
    "def _encode_label(labelmap):\n",
    "    encoded_labelmap = np.ones_like(labelmap, dtype=np.uint16) * 255\n",
    "    for i, class_id in enumerate(label_list):\n",
    "        encoded_labelmap[labelmap == class_id] = i\n",
    "    return encoded_labelmap"
   ]
  },
  {
   "cell_type": "code",
   "execution_count": 42,
   "id": "33d1bb38-02e0-4c75-8a48-cfa970b890a0",
   "metadata": {},
   "outputs": [],
   "source": [
    "from scipy import ndimage\n",
    "# label_list=[0,255]\n",
    "# labelmap = _encode_label(img)\n",
    "# dis = ndimage.morphology.distance_transform_edt(labelmap)"
   ]
  },
  {
   "cell_type": "code",
   "execution_count": 36,
   "id": "c56b0647-b98d-4e8e-bf52-691f7d2594cc",
   "metadata": {},
   "outputs": [
    {
     "name": "stdout",
     "output_type": "stream",
     "text": [
      "t2 (2560, 2560, 3)\n",
      "mask2_1 (2560, 2560, 3)\n",
      "t1 (2560, 2560, 3)\n",
      "mask1 (2560, 2560, 3)\n"
     ]
    }
   ],
   "source": [
    "imgs = d.__getitem__(10)\n",
    "for k in imgs.keys():\n",
    "    print(k,imgs[k].shape)\n",
    "# plt.imshow(imgs['mask2'])"
   ]
  },
  {
   "cell_type": "code",
   "execution_count": 39,
   "id": "d125c22a-0d30-4fa1-b46d-b541756bb581",
   "metadata": {},
   "outputs": [],
   "source": [
    "mask = imgs['mask2_1']"
   ]
  },
  {
   "cell_type": "code",
   "execution_count": 43,
   "id": "ad10e7fe-38b9-4d58-b1c4-6be2529a695d",
   "metadata": {},
   "outputs": [],
   "source": [
    "dis = ndimage.morphology.distance_transform_edt(mask)"
   ]
  },
  {
   "cell_type": "code",
   "execution_count": 48,
   "id": "66a398af-8b92-4833-a2ca-dbb9f91beea3",
   "metadata": {},
   "outputs": [
    {
     "data": {
      "text/plain": [
       "0.0"
      ]
     },
     "execution_count": 48,
     "metadata": {},
     "output_type": "execute_result"
    }
   ],
   "source": [
    "dis.min()"
   ]
  },
  {
   "cell_type": "code",
   "execution_count": 46,
   "id": "7ce49d25-4ef6-43a6-adcf-371ea129ba80",
   "metadata": {},
   "outputs": [
    {
     "name": "stderr",
     "output_type": "stream",
     "text": [
      "Clipping input data to the valid range for imshow with RGB data ([0..1] for floats or [0..255] for integers).\n"
     ]
    },
    {
     "data": {
      "text/plain": [
       "<matplotlib.image.AxesImage at 0x7f3fcbada460>"
      ]
     },
     "execution_count": 46,
     "metadata": {},
     "output_type": "execute_result"
    },
    {
     "data": {
      "image/png": "[encoded data removed]",
      "text/plain": [
       "<Figure size 432x288 with 1 Axes>"
      ]
     },
     "metadata": {
      "needs_background": "light"
     },
     "output_type": "display_data"
    }
   ],
   "source": [
    "plt.imshow(dis)"
   ]
  },
  {
   "cell_type": "code",
   "execution_count": null,
   "id": "0176a317-d642-4f19-89de-cc22091a3a1a",
   "metadata": {},
   "outputs": [],
   "source": []
  },
  {
   "cell_type": "code",
   "execution_count": null,
   "id": "e4b70ff9-70bc-41bb-9a76-148e37584ab2",
   "metadata": {},
   "outputs": [],
   "source": []
  },
  {
   "cell_type": "code",
   "execution_count": null,
   "id": "b8821317-3cc4-4dff-abe7-ad627a3a00e9",
   "metadata": {},
   "outputs": [],
   "source": []
  },
  {
   "cell_type": "code",
   "execution_count": 11,
   "id": "14490891-bea6-4274-8994-3ceb54027f95",
   "metadata": {},
   "outputs": [],
   "source": [
    "from transforms.aug_tools import strong_aug"
   ]
  },
  {
   "cell_type": "code",
   "execution_count": 12,
   "id": "dbfa3c78-da53-4557-8153-7ca888cc5c4b",
   "metadata": {},
   "outputs": [],
   "source": [
    "augmentation = strong_aug(p=0.9)"
   ]
  },
  {
   "cell_type": "code",
   "execution_count": 18,
   "id": "60fd0654-ba78-4b4b-91b7-3ec4721addd0",
   "metadata": {},
   "outputs": [],
   "source": [
    "aug_r=augmentation(image=imgs['t2'],masks=[imgs['t1'],imgs['mask1'],imgs['mask2']])"
   ]
  },
  {
   "cell_type": "code",
   "execution_count": 20,
   "id": "3b4a4c34-50b5-4cc0-b7c1-671b9670ccbc",
   "metadata": {},
   "outputs": [],
   "source": [
    "t1,mask1,mask2 = aug_r['masks']"
   ]
  },
  {
   "cell_type": "code",
   "execution_count": 5,
   "id": "99e62c85-31e5-47c4-85f6-4ecadd38ac67",
   "metadata": {},
   "outputs": [],
   "source": [
    "def augmentations(imgs):\n",
    "    return imgs"
   ]
  },
  {
   "cell_type": "code",
   "execution_count": 6,
   "id": "03bbb9f7-f460-4044-9092-e1e08e806cdb",
   "metadata": {},
   "outputs": [],
   "source": [
    "class SegDataset(Dataset):\n",
    "    \"\"\"Custom datasets for change detection. An example of file structure\n",
    "    is as followed.\n",
    "    .. code-block:: none\n",
    "        ├── data\n",
    "        │   ├── my_dataset\n",
    "        │   │   ├── train\n",
    "        │   │   │   ├── t1_dir\n",
    "        │   │   │   ├── t2_dir\n",
    "        │   │   │   ├── t1_b_dir\n",
    "        │   │   │   ├── t2_b_dir\n",
    "        │   │   │   ├── mask1_dir\n",
    "        │   │   │   ├── mask2_dir\n",
    "        │   │   │   ├── mask1_b_dir\n",
    "        │   │   │   ├── mask2_b_dir\n",
    "\n",
    "    \"\"\"\n",
    "\n",
    "    def __init__(self,\n",
    "                 img_dirs=['train'],\n",
    "                 augmentations=None,\n",
    "                 data_root=None,\n",
    "                 img_size=(640, 640),\n",
    "                 n_classes=3,\n",
    "                 split=None,\n",
    "                 use_sub=[''],\n",
    "                 index='',\n",
    "                 limt_num=None\n",
    "                 ):\n",
    "       \n",
    "        self.transform = augmentations\n",
    "        self.is_transform = not not augmentations\n",
    "\n",
    "        self.data_root = data_root\n",
    "        self.img_size = img_size\n",
    "        self.n_classes = n_classes\n",
    "\n",
    "        self.use_sub = use_sub\n",
    "        self.limt_num = limt_num\n",
    "        \n",
    "        if self.data_root is not None:\n",
    "            for img_dir in img_dirs:\n",
    "                self.img_dir = osp.join(self.data_root, img_dir)\n",
    "                self.img_infos = Dataset_infos(img_dir=self.img_dir, index=index).img_infos\n",
    "        print('loading dataset:', self.img_dir)\n",
    "        print('use subdir:', self.use_sub)\n",
    "        if self.limt_num is None:\n",
    "            print('dataset size:', self.__len__())\n",
    "        else:\n",
    "            print('dataset_limt_num:',self.limt_num)\n",
    "        \n",
    "        print('data_info:',self.img_infos['sub_imgs'])\n",
    "            \n",
    "    def get_image(self, img_info):\n",
    "        imgs = {}\n",
    "        for sub_dir in self.use_sub:\n",
    "            if len(img_info[sub_dir]) > 1:\n",
    "                if Path(img_info[sub_dir]).exists():\n",
    "                    img = cv2.imread(img_info[sub_dir])\n",
    "                else:\n",
    "                    # print('not path',img_info[sub_dir])\n",
    "                    img = np.zeros((self.img_size[0],self.img_size[1], 3), np.uint8)\n",
    "                if img is not None:\n",
    "                    imgs[sub_dir] = cv2.cvtColor(img, cv2.COLOR_BGR2RGB)\n",
    "            else:\n",
    "                # print('not exists',sub_dir)\n",
    "                img = np.zeros((self.img_size[0],self.img_size[1], 3), np.uint8)\n",
    "                imgs[sub_dir] =img\n",
    "                \n",
    "        return imgs\n",
    "\n",
    "    def prepare_img(self, idx):\n",
    "        img_info = self.img_infos['imgs'][idx]\n",
    "\n",
    "        imgs = self.get_image(img_info)\n",
    "        return imgs\n",
    "\n",
    "    def __getitem__(self, idx):\n",
    "        imgs = self.prepare_img(idx)\n",
    "\n",
    "        if self.is_transform:\n",
    "            images = self.transform(imgs)\n",
    "        else:\n",
    "            images = {}\n",
    "            for key in imgs.keys():\n",
    "                img = imgs[key]\n",
    "                img = cv2.resize(img, self.img_size)\n",
    "                img = torch.from_numpy(img.transpose(2, 0, 1))\n",
    "                images[key] = img / 255.0\n",
    "           \n",
    "        return images\n",
    "\n",
    "    def __len__(self):\n",
    "        \n",
    "        if self.limt_num:\n",
    "            return self.limt_num\n",
    "        else:\n",
    "            return len(self.img_infos['imgs'])\n",
    "class Dataset_infos:\n",
    "    def __init__(self, img_dir='', save=True, index='t2'):\n",
    "        self.sub_dirs = ['t2', 't1', 't1_b', 't2_b', 'mask1', 'mask1_1', 'mask2', 'mask1_b', 'mask2_b', 'cd_mask_1',\n",
    "                         'mask2_1', 'cd_cd_1', 'cd_cd', 'mask2_b2', 'image', 'label', 'label_b']\n",
    "        self.img_suffixs = ['.png', '.png', '.png', '.png', '.png', '.png', '.png', '.png', '.png', '.png', '.png',\n",
    "                            '.png', '.png', '.png', '.jpg', '.png', '.png']\n",
    "        assert len(self.sub_dirs) == len(self.img_suffixs)\n",
    "        self.img_dir = img_dir\n",
    "        self.img_infos = {}\n",
    "        self.save = save\n",
    "\n",
    "        self.datainfo_p = osp.join(self.img_dir, index+'_dataset_info.json')\n",
    "        if Path(self.datainfo_p).exists():\n",
    "            with open(self.datainfo_p, 'r') as f:\n",
    "                self.img_infos = json.load(f)\n",
    "        else:\n",
    "            print(self.sub_dirs.index(index))\n",
    "            self.get_img_infos(index=self.sub_dirs.index(index))\n",
    "\n",
    "        if self.sub_dirs.index(index) != self.img_infos['index']:\n",
    "            # self.save=False\n",
    "            self.get_img_infos(index=self.sub_dirs.index(index))\n",
    "\n",
    "    def get_img_infos(self, index=0):\n",
    "        img_info = {}\n",
    "        for sub_dir, img_suffix in zip(self.sub_dirs, self.img_suffixs):\n",
    "            path = osp.join(self.img_dir, sub_dir)\n",
    "            if Path(path).exists():\n",
    "                path0 = osp.join(path, '*' + img_suffix)\n",
    "                imgs_fs = glob(path0)\n",
    "                img_info[sub_dir] = [path, len(imgs_fs)]\n",
    "            else:\n",
    "                img_info[sub_dir] = [path, 0]\n",
    "\n",
    "        self.img_infos['sub_imgs'] = img_info\n",
    "        self.img_infos['imgs'] = []\n",
    "        self.img_infos['index'] = index\n",
    "\n",
    "        sub_dir = self.sub_dirs[index]\n",
    "        path = osp.join(self.img_dir, sub_dir, '*' + self.img_suffixs[index])\n",
    "\n",
    "        imgs_fs = glob(path)\n",
    "\n",
    "        for img_f in imgs_fs:\n",
    "            img_info = {}\n",
    "            for sd, img_suffix in zip(self.sub_dirs[:], self.img_suffixs[:]):\n",
    "                img_path = img_f.replace(sub_dir, sd).replace(self.img_suffixs[index], img_suffix)\n",
    "                if Path(img_path).exists():\n",
    "                    img_info[sd] = img_path\n",
    "                else:\n",
    "                    img_info[sd] = ''\n",
    "            self.img_infos['imgs'].append(img_info)\n",
    "\n",
    "        if self.save:\n",
    "            with open(osp.join(self.img_dir, sub_dir+'_dataset_info.json'), 'w') as f:\n",
    "                f.write(json.dumps(self.img_infos))\n"
   ]
  },
  {
   "cell_type": "code",
   "execution_count": 33,
   "id": "c749d7cc-4d1f-45ed-b325-125da7925f17",
   "metadata": {},
   "outputs": [
    {
     "name": "stdout",
     "output_type": "stream",
     "text": [
      "loading dataset: /home/wanghaifeng/project_work/datasets/changedetection_dataset/zaihai/imgs8/train\n",
      "use subdir: ['t2', 'mask2_1', 't1', 'mask1']\n",
      "dataset size: 2059\n",
      "data_info: {'t2': ['/home/wanghaifeng/project_work/datasets/changedetection_dataset/zaihai/imgs8/train/t2', 2059], 't1': ['/home/wanghaifeng/project_work/datasets/changedetection_dataset/zaihai/imgs8/train/t1', 2059], 't1_b': ['/home/wanghaifeng/project_work/datasets/changedetection_dataset/zaihai/imgs8/train/t1_b', 2059], 't2_b': ['/home/wanghaifeng/project_work/datasets/changedetection_dataset/zaihai/imgs8/train/t2_b', 2059], 'mask1': ['/home/wanghaifeng/project_work/datasets/changedetection_dataset/zaihai/imgs8/train/mask1', 680], 'mask1_1': ['/home/wanghaifeng/project_work/datasets/changedetection_dataset/zaihai/imgs8/train/mask1_1', 2036], 'mask2': ['/home/wanghaifeng/project_work/datasets/changedetection_dataset/zaihai/imgs8/train/mask2', 2036], 'mask1_b': ['/home/wanghaifeng/project_work/datasets/changedetection_dataset/zaihai/imgs8/train/mask1_b', 2059], 'mask2_b': ['/home/wanghaifeng/project_work/datasets/changedetection_dataset/zaihai/imgs8/train/mask2_b', 2059], 'cd_mask_1': ['/home/wanghaifeng/project_work/datasets/changedetection_dataset/zaihai/imgs8/train/cd_mask_1', 680], 'mask2_1': ['/home/wanghaifeng/project_work/datasets/changedetection_dataset/zaihai/imgs8/train/mask2_1', 2038], 'cd_cd_1': ['/home/wanghaifeng/project_work/datasets/changedetection_dataset/zaihai/imgs8/train/cd_cd_1', 680], 'cd_cd': ['/home/wanghaifeng/project_work/datasets/changedetection_dataset/zaihai/imgs8/train/cd_cd', 680], 'mask2_b2': ['/home/wanghaifeng/project_work/datasets/changedetection_dataset/zaihai/imgs8/train/mask2_b2', 2059], 'image': ['/home/wanghaifeng/project_work/datasets/changedetection_dataset/zaihai/imgs8/train/image', 0], 'label': ['/home/wanghaifeng/project_work/datasets/changedetection_dataset/zaihai/imgs8/train/label', 0], 'label_b': ['/home/wanghaifeng/project_work/datasets/changedetection_dataset/zaihai/imgs8/train/label_b', 0]}\n"
     ]
    }
   ],
   "source": [
    "data_root = r'/home/wanghaifeng/project_work/datasets/changedetection_dataset/zaihai/imgs8/'\n",
    "d=SegDataset(data_root=data_root,index='t2',use_sub=['t2','mask2_1','t1','mask1'],augmentations=augmentations)\n"
   ]
  },
  {
   "cell_type": "code",
   "execution_count": null,
   "id": "7b0b617c-345d-42ba-8759-22794021bceb",
   "metadata": {},
   "outputs": [],
   "source": []
  }
 ],
 "metadata": {
  "kernelspec": {
   "display_name": "Python 3 (ipykernel)",
   "language": "python",
   "name": "python3"
  },
  "language_info": {
   "codemirror_mode": {
    "name": "ipython",
    "version": 3
   },
   "file_extension": ".py",
   "mimetype": "text/x-python",
   "name": "python",
   "nbconvert_exporter": "python",
   "pygments_lexer": "ipython3",
   "version": "3.9.17"
  }
 },
 "nbformat": 4,
 "nbformat_minor": 5
}
