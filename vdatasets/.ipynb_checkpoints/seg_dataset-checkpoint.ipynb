{
 "cells": [
  {
   "cell_type": "code",
   "execution_count": 1,
   "id": "258a1f7b-29ea-4bbf-8e73-0f0aa63433e5",
   "metadata": {},
   "outputs": [],
   "source": [
    "from seg_dataset import SegDataset"
   ]
  },
  {
   "cell_type": "code",
   "execution_count": 2,
   "id": "3c6aef94-bef6-41f5-9081-0a22c77cb8b0",
   "metadata": {},
   "outputs": [
    {
     "name": "stdout",
     "output_type": "stream",
     "text": [
      "----------------init dataset---------------\n",
      "loading dataset: /shared/wanghaifeng/datasets/cache/yunnan use subdir: ['image', 'label'] num:  1414\n"
     ]
    }
   ],
   "source": [
    "dataset = SegDataset(dataset_path='/shared/wanghaifeng/datasets/cache/yunnan',\n",
    "                 img_size=640,\n",
    "                 sub_dir=['image','label'],\n",
    "                 limt_num=None,\n",
    "                 data_type='train'\n",
    "                 )"
   ]
  },
  {
   "cell_type": "code",
   "execution_count": 3,
   "id": "4e6a0dd0-027c-4954-b12a-67a3023c26d2",
   "metadata": {},
   "outputs": [
    {
     "ename": "NameError",
     "evalue": "name 'pre_img' is not defined",
     "output_type": "error",
     "traceback": [
      "\u001b[0;31m---------------------------------------------------------------------------\u001b[0m",
      "\u001b[0;31mNameError\u001b[0m                                 Traceback (most recent call last)",
      "Cell \u001b[0;32mIn[3], line 1\u001b[0m\n\u001b[0;32m----> 1\u001b[0m \u001b[43mdataset\u001b[49m\u001b[38;5;241;43m.\u001b[39;49m\u001b[38;5;21;43m__getitem__\u001b[39;49m\u001b[43m(\u001b[49m\u001b[38;5;241;43m10\u001b[39;49m\u001b[43m)\u001b[49m\n",
      "File \u001b[0;32m/data/wanghaifeng/whf_work/work_sync/models_seg/vdatasets/seg_dataset.py:53\u001b[0m, in \u001b[0;36mSegDataset.__getitem__\u001b[0;34m(self, idx)\u001b[0m\n\u001b[1;32m     51\u001b[0m \u001b[38;5;28;01mfor\u001b[39;00m sub_dir \u001b[38;5;129;01min\u001b[39;00m \u001b[38;5;28mself\u001b[39m\u001b[38;5;241m.\u001b[39muse_sub:\n\u001b[1;32m     52\u001b[0m    img \u001b[38;5;241m=\u001b[39m cv2\u001b[38;5;241m.\u001b[39mimread(\u001b[38;5;124mf\u001b[39m\u001b[38;5;124m'\u001b[39m\u001b[38;5;132;01m{\u001b[39;00m\u001b[38;5;28mself\u001b[39m\u001b[38;5;241m.\u001b[39mdata_root\u001b[38;5;132;01m}\u001b[39;00m\u001b[38;5;124m/\u001b[39m\u001b[38;5;132;01m{\u001b[39;00msub_dir\u001b[38;5;132;01m}\u001b[39;00m\u001b[38;5;124m/\u001b[39m\u001b[38;5;132;01m{\u001b[39;00mimg_name\u001b[38;5;132;01m}\u001b[39;00m\u001b[38;5;124m.png\u001b[39m\u001b[38;5;124m'\u001b[39m)\n\u001b[0;32m---> 53\u001b[0m    \u001b[38;5;28;01mif\u001b[39;00m \u001b[38;5;28mlen\u001b[39m(\u001b[43mpre_img\u001b[49m\u001b[38;5;241m.\u001b[39mshape)\u001b[38;5;241m==\u001b[39m\u001b[38;5;241m2\u001b[39m:\n\u001b[1;32m     54\u001b[0m         img \u001b[38;5;241m=\u001b[39m np\u001b[38;5;241m.\u001b[39mstack((img ,)\u001b[38;5;241m*\u001b[39m\u001b[38;5;241m3\u001b[39m, axis\u001b[38;5;241m=\u001b[39m\u001b[38;5;241m-\u001b[39m\u001b[38;5;241m1\u001b[39m)\n\u001b[1;32m     55\u001b[0m    \u001b[38;5;66;03m# if self.is_transform:\u001b[39;00m\n\u001b[1;32m     56\u001b[0m    \u001b[38;5;66;03m#      img = self.transform(img)\u001b[39;00m\n",
      "\u001b[0;31mNameError\u001b[0m: name 'pre_img' is not defined"
     ]
    }
   ],
   "source": [
    "dataset.__getitem__(10)"
   ]
  },
  {
   "cell_type": "code",
   "execution_count": null,
   "id": "f7a7545a-9d72-4b71-9fbe-b8a83a34c16e",
   "metadata": {},
   "outputs": [],
   "source": []
  }
 ],
 "metadata": {
  "kernelspec": {
   "display_name": "Python 3 (ipykernel)",
   "language": "python",
   "name": "python3"
  },
  "language_info": {
   "codemirror_mode": {
    "name": "ipython",
    "version": 3
   },
   "file_extension": ".py",
   "mimetype": "text/x-python",
   "name": "python",
   "nbconvert_exporter": "python",
   "pygments_lexer": "ipython3",
   "version": "3.9.0"
  }
 },
 "nbformat": 4,
 "nbformat_minor": 5
}
