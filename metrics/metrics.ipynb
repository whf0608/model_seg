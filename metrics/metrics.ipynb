{
 "cells": [
  {
   "cell_type": "code",
   "execution_count": 7,
   "id": "12e9116d-c01b-4b4a-a7a0-f8b5ad77d75c",
   "metadata": {},
   "outputs": [
    {
     "name": "stdout",
     "output_type": "stream",
     "text": [
      "[easydl] tensorflow not available!\n"
     ]
    }
   ],
   "source": [
    "import os\n",
    "os.environ[\"CUDA_VISIBLE_DEVICES\"] = \"3\"\n",
    "import sys\n",
    "sys.path.append('../segmention_buildings/BuildFormer')\n",
    "import matplotlib.pyplot as plt\n",
    "import json\n",
    "import sys\n",
    "from torch  import nn\n",
    "from tqdm import tqdm\n",
    "from torch import optim\n",
    "import torch.nn.functional as F\n",
    "import cv2\n",
    "import numpy as np\n",
    "import kornia as K\n",
    "import math\n",
    "from glob import glob\n",
    "from os.path import join\n",
    "import torch\n",
    "from easydl import clear_output"
   ]
  },
  {
   "cell_type": "code",
   "execution_count": 14,
   "id": "5821f8ce-fa7f-4f1e-9e86-bb0760153e87",
   "metadata": {},
   "outputs": [],
   "source": [
    "from init import *\n",
    "from train_model import train_model\n",
    "from lossers import dice_loss\n",
    "from  models import get_model\n",
    "from lossers import get_loss_function\n",
    "from datasets import get_dataloader\n",
    "from geoseg.models.BuildFormer import BuildFormerSegDP\n",
    "from optimizers_schedulers import get_optimizer_scheduler, update_paramter\n",
    "from utiles.mask_utles import get_color_mask,mask2color,show_image_mask,show_image_mask_, rgbmask2label,label_colormap, image_diff\n",
    "from utiles.mask_utles import rgbmask2label,label2rgbmask,rgb2cls_masks,label2rgbmask2,label_colormap\n",
    "from utiles.tensor2imgmask import *\n",
    "\n",
    "device = torch.device(\"cuda\" if torch.cuda.is_available() else \"cpu\")"
   ]
  },
  {
   "cell_type": "code",
   "execution_count": 5,
   "id": "09faed41-e453-48bf-818d-6b44ed21cda5",
   "metadata": {},
   "outputs": [],
   "source": [
    "import sys\n",
    "sys.path.append('/home/wanghaifeng/whf_work/work_sync/vit/vit-pytorch/vit_pytorch')\n",
    "sys.path.append('/home/wanghaifeng/whf_work/work_sync/satellite_data/models_config/segment-anything/segment_anything')\n",
    "# from  vit  import  ViT\n",
    "# from image_encoder import *"
   ]
  },
  {
   "cell_type": "code",
   "execution_count": 16,
   "id": "aa14ba44-e61f-4a72-951b-05e3b9f97502",
   "metadata": {},
   "outputs": [],
   "source": [
    "def vis_result(results,result_vis_path):\n",
    "    data_dict= {\"TP\":[], \"TN\":[], \"FP\":[], \"FN\":[], \"PPV\":[], \"TPR\":[], \"TPR\":[], \"TNR\":[], \"F1\":[], \"Dice\":[], \"IOU\":[],\"model\":[],\"data\":[],\"times\":[]}\n",
    "    flag = time.strftime(\"%Y_%m_%d_%H_%M_%S\", time.localtime())\n",
    "    for i,d in enumerate(results):\n",
    "        keys =list(data_dict.keys())\n",
    "        for d0,k in zip(d[0],keys[:len(d[0])]):\n",
    "            data_dict[k].append(d0)\n",
    "        for d1,k in zip(d[1],keys[len(d[0]):len(d[0])+len(d[1])]):\n",
    "            data_dict[k].append(d1)\n",
    "        \n",
    "        # data_dict[\"times\"].append(i)\n",
    "        # data_dict[\"id\"].append(i)\n",
    "        \n",
    "    data_t = pandas.DataFrame(data_dict,columns = keys)\n",
    "    data_t.to_html(join(result_vis_path,flag+'.html'))\n",
    "    data_t.to_html(join(result_vis_path,'result.html'))\n",
    "    data_t.to_json(join(result_vis_path,flag+'.json'))\n",
    "    data_t.to_csv(join(result_vis_path,flag+'.csv'))"
   ]
  },
  {
   "cell_type": "code",
   "execution_count": null,
   "id": "70076a26-644f-48c9-b470-6fd8f350c768",
   "metadata": {},
   "outputs": [],
   "source": [
    "from metrics.evel_models  import  evel_models,get_model_dataset\n",
    "from glob import glob\n",
    "import pandas\n",
    "import time\n",
    "from os.path import join\n",
    "\n",
    "device = torch.device(\"cuda\" if torch.cuda.is_available() else \"cpu\")\n",
    "dataset_roots =['/home/wanghaifeng/project_work/datasets/disaster_dataset/harvey']\n",
    "save_root = '/home/wanghaifeng/whf_work/model_works/model_vis_result'\n",
    "modes_config  = glob(r'/home/wanghaifeng/whf_work/work_sync/satellite_data/models_config/cfdnet/model_works/vgg_unet/vgg_unet_2024_01_31_20_48_13/model_config.json')\n",
    "\n",
    "results = evel_models(save_root =save_root,modes_config=modes_config,dataset_roots=dataset_roots,device=device,\n",
    "            models_predection=True,models_metrics=False,img_size = (1024,1024),cross_dataset_test = False,min_num_limt=1,\n",
    "                     show_img=True,show_mask=True,show_gtmaskimg=True,show_premaskimg=True,show_fixedmaskimg=True,save_mask=True,save_fixedmask=True)\n",
    "# clear_output()\n",
    "# result_vis_path = '/home/wanghaifeng/whf_work/work_sync/satellite_data/valite_dataset_sys/vis'\n",
    "# vis_result(results,result_vis_path)"
   ]
  },
  {
   "cell_type": "code",
   "execution_count": null,
   "id": "0f3d897f-1dc6-412b-886c-57523176b692",
   "metadata": {},
   "outputs": [],
   "source": []
  }
 ],
 "metadata": {
  "kernelspec": {
   "display_name": "Python 3 (ipykernel)",
   "language": "python",
   "name": "python3"
  },
  "language_info": {
   "codemirror_mode": {
    "name": "ipython",
    "version": 3
   },
   "file_extension": ".py",
   "mimetype": "text/x-python",
   "name": "python",
   "nbconvert_exporter": "python",
   "pygments_lexer": "ipython3",
   "version": "3.9.0"
  }
 },
 "nbformat": 4,
 "nbformat_minor": 5
}
